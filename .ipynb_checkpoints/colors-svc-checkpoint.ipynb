{
 "cells": [
  {
   "cell_type": "code",
   "execution_count": 18,
   "metadata": {},
   "outputs": [],
   "source": [
    "from sklearn import svm\n",
    "import os\n",
    "import cv2\n",
    "import numpy as np\n",
    "import time\n",
    "from sklearn.pipeline import Pipeline\n",
    "from sklearn.preprocessing import PolynomialFeatures\n",
    "from sklearn.preprocessing import StandardScaler\n",
    "from sklearn.svm import LinearSVC\n",
    "from sklearn.svm import SVC"
   ]
  },
  {
   "cell_type": "code",
   "execution_count": 26,
   "metadata": {},
   "outputs": [],
   "source": [
    "def createDefaultColorModel():\n",
    "        foldername = os.getcwd()+\"/teachcolors-rswm-10-dec\"\n",
    "        y = []\n",
    "        X = []\n",
    "        H = []\n",
    "        for root,dirs,_ in os.walk(foldername):\n",
    "            for d in dirs:\n",
    "                mypath = os.path.join(root,d)\n",
    "                print(d)\n",
    "                for file in os.listdir(mypath):                   \n",
    "                    image = cv2.imread(os.path.join(mypath,file))\n",
    "                    #predImage\n",
    "                    image = cv2.cvtColor(image,cv2.COLOR_BGR2HSV)\n",
    "                    image = cv2.resize(image,(160,25))\n",
    "                    image = image.reshape(-1)\n",
    "                    X.append(image)\n",
    "                    y.append(d)\n",
    "            \n",
    "                    \n",
    "        X = np.asarray(X)\n",
    "#         poly_kernel_svm_clf = Pipeline([\n",
    "#         (\"scaler\", StandardScaler()),\n",
    "#         (\"svm_clf\", SVC(kernel=\"poly\", degree=4, coef0=1, C=5))\n",
    "#         ])\n",
    "        clfsvc = svm.SVC(C=2, probability=True)\n",
    "#         print(\"fitting model\",len(X))\n",
    "#         clfsvc = poly_kernel_svm_clf.fit(X, y)\n",
    "        clfsvc.fit(X, y)\n",
    "        clfLog = None\n",
    "        \n",
    "        print(\"------- default training complate-----------------------\")\n",
    "        \n",
    "        return clfsvc,X,y"
   ]
  },
  {
   "cell_type": "code",
   "execution_count": null,
   "metadata": {},
   "outputs": [],
   "source": []
  },
  {
   "cell_type": "code",
   "execution_count": 27,
   "metadata": {},
   "outputs": [
    {
     "name": "stdout",
     "output_type": "stream",
     "text": [
      "1\n",
      "6\n",
      "12\n",
      "13\n",
      "8\n",
      "4\n",
      "7\n",
      "16\n",
      "9\n",
      "11\n",
      "3\n",
      "18\n",
      "19\n",
      "15\n",
      "17\n",
      "2\n",
      "5\n",
      "10\n",
      "14\n",
      "------- default training complate-----------------------\n",
      "2.1481339931488037\n"
     ]
    }
   ],
   "source": [
    "t = time.time()\n",
    "model,X,y = createDefaultColorModel()\n",
    "print(time.time()-t)"
   ]
  },
  {
   "cell_type": "code",
   "execution_count": 28,
   "metadata": {},
   "outputs": [
    {
     "data": {
      "text/plain": [
       "(1, 315, 4000)"
      ]
     },
     "execution_count": 28,
     "metadata": {},
     "output_type": "execute_result"
    }
   ],
   "source": [
    "X[np.newaxis,...].shape"
   ]
  },
  {
   "cell_type": "code",
   "execution_count": 29,
   "metadata": {},
   "outputs": [],
   "source": [
    "# y"
   ]
  },
  {
   "cell_type": "code",
   "execution_count": 30,
   "metadata": {},
   "outputs": [
    {
     "name": "stdout",
     "output_type": "stream",
     "text": [
      "12   13\n",
      "12   13\n",
      "12   13\n",
      "12   13\n",
      "12   13\n",
      "12   13\n",
      "12   13\n",
      "12   13\n",
      "12   13\n",
      "12   13\n",
      "12   13\n",
      "12   13\n",
      "12   13\n",
      "12   13\n",
      "12   13\n",
      "18   16\n",
      "4   16\n",
      "4   16\n",
      "4   16\n",
      "4   16\n",
      "4   16\n",
      "4   16\n",
      "16   18\n",
      "16   18\n",
      "5   15\n",
      "5   15\n",
      "3   15\n",
      "4   2\n",
      "4   2\n",
      "4   2\n",
      "4   2\n",
      "12   10\n",
      "12   10\n",
      "12   10\n",
      "12   10\n",
      "12   10\n",
      "12   10\n",
      "12   10\n",
      "12   10\n",
      "12   10\n",
      "12   10\n",
      "12   10\n",
      "11   10\n",
      "12   10\n",
      "12   10\n",
      "12   10\n",
      "1   14\n",
      "1   14\n",
      "1   14\n",
      "49\n"
     ]
    }
   ],
   "source": [
    "# for i  in range(20):\n",
    "#     test[i] = 0;\n",
    "error = 0\n",
    "for i in range(0,len(X)):\n",
    "#     print(model.predict(X[np.newaxis,i,...]))\n",
    "    if model.predict(X[np.newaxis,i,...])[0] != y[i]:\n",
    "        print(model.predict(X[np.newaxis,i,...])[0],\" \",y[i])\n",
    "        error += 1\n",
    "print(error)\n",
    "        \n",
    "        \n",
    "    "
   ]
  },
  {
   "cell_type": "code",
   "execution_count": 31,
   "metadata": {},
   "outputs": [],
   "source": [
    "def test():\n",
    "        foldername = os.getcwd()+\"/testcolors\"\n",
    "        y = []\n",
    "        X = []\n",
    "        H = []\n",
    "        for root,dirs,_ in os.walk(foldername):\n",
    "            for d in dirs:\n",
    "                mypath = os.path.join(root,d)\n",
    "                for file in os.listdir(mypath):                   \n",
    "                    image = cv2.imread(os.path.join(mypath,file))\n",
    "                    #predImage\n",
    "                    image = cv2.cvtColor(image,cv2.COLOR_BGR2HSV)\n",
    "                    image = cv2.resize(image,(160,25))\n",
    "                    image = image.reshape(-1)\n",
    "                    X.append(image)\n",
    "                    y.append(d)\n",
    "                    error = 0\n",
    "        X = np.asarray(X)\n",
    "        print(len(X))\n",
    "        error = 0\n",
    "        for i in range(0,len(X)):\n",
    "            if model.predict(X[np.newaxis,i,...])[0] != y[i]:\n",
    "                error += 1\n",
    "        print(error)"
   ]
  },
  {
   "cell_type": "code",
   "execution_count": 32,
   "metadata": {},
   "outputs": [
    {
     "name": "stdout",
     "output_type": "stream",
     "text": [
      "30\n",
      "19\n"
     ]
    }
   ],
   "source": [
    "test()"
   ]
  },
  {
   "cell_type": "code",
   "execution_count": null,
   "metadata": {},
   "outputs": [],
   "source": []
  }
 ],
 "metadata": {
  "kernelspec": {
   "display_name": "ml",
   "language": "python",
   "name": "ml"
  },
  "language_info": {
   "codemirror_mode": {
    "name": "ipython",
    "version": 3
   },
   "file_extension": ".py",
   "mimetype": "text/x-python",
   "name": "python",
   "nbconvert_exporter": "python",
   "pygments_lexer": "ipython3",
   "version": "3.7.9"
  }
 },
 "nbformat": 4,
 "nbformat_minor": 4
}
