{
 "cells": [
  {
   "cell_type": "code",
   "execution_count": 1,
   "metadata": {},
   "outputs": [],
   "source": [
    "from __future__ import print_function, division\n",
    "import datetime\n",
    "import torch\n",
    "torch.manual_seed(42)\n",
    "import torch.nn as nn\n",
    "import torch.optim as optim\n",
    "from torch.optim import lr_scheduler\n",
    "from torchvision.utils import save_image\n",
    "import numpy as np\n",
    "import torchvision\n",
    "from torchvision import datasets, models, transforms\n",
    "from torch.utils.data import Dataset\n",
    "import matplotlib.pyplot as plt\n",
    "from PIL import Image\n",
    "import time\n",
    "import os\n",
    "import copy\n",
    "import cv2\n",
    "from albumentations import (\n",
    "    HorizontalFlip, VerticalFlip, IAAPerspective, ShiftScaleRotate, CLAHE, RandomRotate90,\n",
    "    Transpose, ShiftScaleRotate, Blur, OpticalDistortion, GridDistortion, HueSaturationValue,\n",
    "    IAAAdditiveGaussianNoise, GaussNoise, MotionBlur, MedianBlur, IAAPiecewiseAffine, RandomResizedCrop,\n",
    "    IAASharpen, IAAEmboss, RandomBrightnessContrast, Flip, OneOf, Compose, Normalize, Cutout, CoarseDropout, ShiftScaleRotate, CenterCrop, Resize,\n",
    "    ToGray\n",
    ")\n",
    "\n",
    "from albumentations.pytorch import ToTensorV2\n",
    "from sklearn.model_selection import train_test_split\n",
    "from livelossplot import PlotLosses\n",
    "\n",
    "NUMBER_OF_CLASSES = 2"
   ]
  },
  {
   "cell_type": "code",
   "execution_count": 2,
   "metadata": {},
   "outputs": [],
   "source": [
    "#sam \n",
    "from sam.sam import SAM"
   ]
  },
  {
   "cell_type": "code",
   "execution_count": 3,
   "metadata": {},
   "outputs": [],
   "source": [
    "class_names = []\n",
    "\n",
    "def dataLoc():\n",
    "    x = []\n",
    "    y = []\n",
    "    global class_names\n",
    "    for label,i in enumerate(os.listdir(\"data/deepdata/kirchidata/\")):\n",
    "        class_names.append(i)\n",
    "        for j in os.listdir(\"data/deepdata/kirchidata/\"+i):\n",
    "            x.append(\"data/deepdata/kirchidata/\"+i+\"/\"+j)\n",
    "            y.append(label)\n",
    "#         print(len(x[0]))\n",
    "    \n",
    "    x_train , x_val , y_train, y_val = train_test_split(x, y, test_size=0.2, random_state=42)\n",
    "#     print(x_train[1],y_train[1])\n",
    "#     class_names.sort()\n",
    "    print(class_names)\n",
    "    return x_train , x_val , y_train , y_val\n"
   ]
  },
  {
   "cell_type": "code",
   "execution_count": 4,
   "metadata": {},
   "outputs": [
    {
     "name": "stdout",
     "output_type": "stream",
     "text": [
      "['c', 't']\n"
     ]
    }
   ],
   "source": [
    "\n",
    "\n",
    "\n",
    "    \n",
    "\n",
    "class ThreadDataset(Dataset):\n",
    "    def __init__(self,typ,x,y):\n",
    "        self.samples = []\n",
    "        for j in range(len(x)):\n",
    "            im_bgr = cv2.imread(x[j])\n",
    "#             im_rgb = im_bgr[:, :, ::-1]\n",
    "            self.samples.append((im_bgr,y[j],x[j]))\n",
    "#                 print(im_rgb.shape)\n",
    "        if typ == \"train\":\n",
    "            self.data_transforms = Compose([\n",
    "#                 RandomResizedCrop(100, 100),\n",
    "#                 Resize(100, 100,p=1),\n",
    "#                 Transpose(p=0.5),\n",
    "#                 HorizontalFlip(p=0.5),\n",
    "#                 VerticalFlip(p=0.5),\n",
    "#                 ShiftScaleRotate(p=0.5),\n",
    "                HueSaturationValue(hue_shift_limit=0.2, sat_shift_limit=0.2, val_shift_limit=0.2, p=0.5),\n",
    "                RandomBrightnessContrast(brightness_limit=(-0.1,0.1), contrast_limit=(-0.1, 0.1), p=0.5),\n",
    "                ToGray(p=1.0),\n",
    "                Normalize(mean=[0.485, 0.456, 0.406], std=[0.229, 0.224, 0.225], max_pixel_value=255.0, p=1.0),\n",
    "                ToTensorV2(p=1.0),\n",
    "            ])\n",
    "        else:\n",
    "            self.data_transforms = Compose([\n",
    "#                 Resize(100, 100,p=1),\n",
    "                ToGray(p=1.0),\n",
    "                Normalize(mean=[0.485, 0.456, 0.406], std=[0.229, 0.224, 0.225], max_pixel_value=255.0, p=1.0),\n",
    "                ToTensorV2(p=1.0),\n",
    "            ])\n",
    "#         self.data_transforms = transforms.Compose([\n",
    "#                 transforms.ToPILImage(),\n",
    "#                 transforms.Resize(100,),\n",
    "#                 transforms.RandomHorizontalFlip(),\n",
    "#                 transforms.ToTensor(),\n",
    "#                 transforms.Normalize([0.485, 0.456, 0.406], [0.229, 0.224, 0.225])\n",
    "#             ])\n",
    "        \n",
    "        \n",
    "        \n",
    "        \n",
    "    def __getitem__(self, index):\n",
    "        \n",
    "        image = self.samples[index][0]\n",
    "#         image = cv2.resize(image,(100,100))\n",
    "        image = cv2.resize(image,(170,25))\n",
    "        image = self.data_transforms(image = image)[\"image\"]\n",
    "        \n",
    "        return (image,self.samples[index][1],self.samples[index][2])\n",
    "\n",
    "    def __len__(self):\n",
    "        return len(self.samples)\n",
    "\n",
    "\n",
    "x_train , x_val , y_train, y_val  =  dataLoc()\n",
    "threadtrainDataset = ThreadDataset(\"train\",x_train,y_train)\n",
    "threadvalDataset = ThreadDataset(\"val\",x_val,y_val)\n",
    "\n",
    "# threadtrainDataset,threadvalDataset = torch.utils.data.random_split(threadtrainDataset, [int(0.8*len(threadtrainDataset)),int(0.2*len(threadtrainDataset))])\n",
    "# threadvalDataset = ThreadDataset(\"val\")"
   ]
  },
  {
   "cell_type": "code",
   "execution_count": 5,
   "metadata": {},
   "outputs": [
    {
     "name": "stdout",
     "output_type": "stream",
     "text": [
      "cuda:0\n"
     ]
    }
   ],
   "source": [
    "dataloaders = {\"train\":torch.utils.data.DataLoader(threadtrainDataset, batch_size=4,\n",
    "                                             shuffle=True, num_workers=8),\n",
    "               \"val\":torch.utils.data.DataLoader(threadvalDataset, batch_size=4,\n",
    "                                             shuffle=True, num_workers=8)\n",
    "              }\n",
    "\n",
    "dataset_sizes = {\"train\":len(threadtrainDataset), \"val\":len(threadvalDataset) }\n",
    "\n",
    "# print(dataloaders)\n",
    "# class_names = [\"c\",\"t\"]\n",
    "device = torch.device(\"cuda:0\" if torch.cuda.is_available() else \"cpu\")\n",
    "print(device)"
   ]
  },
  {
   "cell_type": "code",
   "execution_count": 6,
   "metadata": {},
   "outputs": [
    {
     "name": "stdout",
     "output_type": "stream",
     "text": [
      "<class 'torch.Tensor'>\n"
     ]
    },
    {
     "data": {
      "image/png": "[encoded data removed]",
      "text/plain": [
       "<Figure size 432x288 with 1 Axes>"
      ]
     },
     "metadata": {
      "needs_background": "light"
     },
     "output_type": "display_data"
    }
   ],
   "source": [
    "def imshow(inp, title=None):\n",
    "    \"\"\"Imshow for Tensor.\"\"\"\n",
    "    inp = inp.numpy().transpose((1, 2, 0))\n",
    "    mean = np.array([0.485, 0.456, 0.406])\n",
    "    std = np.array([0.229, 0.224, 0.225])\n",
    "    inp = std * inp + mean\n",
    "    inp = np.clip(inp, 0, 1)\n",
    "    plt.imshow(inp)\n",
    "    if title is not None:\n",
    "        plt.title(title)\n",
    "    plt.pause(0.001)  # pause a bit so that plots are updated\n",
    "\n",
    "\n",
    "# Get a batch of training data\n",
    "inputs, classes,path = next(iter(dataloaders['train']))\n",
    "print(type(classes))\n",
    "# # Make a grid from batch\n",
    "out = torchvision.utils.make_grid(inputs)\n",
    "\n",
    "imshow(out, title=[class_names[x] for x in classes])"
   ]
  },
  {
   "cell_type": "code",
   "execution_count": 7,
   "metadata": {},
   "outputs": [],
   "source": [
    "def train_model(model, criterion, optimizer, scheduler, num_epochs=25):\n",
    "    since = time.time()\n",
    "    liveloss = PlotLosses()\n",
    "    best_model_wts = copy.deepcopy(model.state_dict())\n",
    "    best_acc = 0.0\n",
    "\n",
    "    for epoch in range(num_epochs):\n",
    "        logs = {}\n",
    "        print('Epoch {}/{}'.format(epoch, num_epochs - 1))\n",
    "        print('-' * 10)\n",
    "\n",
    "        # Each epoch has a training and validation phase\n",
    "        for phase in ['train', 'val']:\n",
    "            if phase == 'train':\n",
    "                model.train()  # Set model to training mode\n",
    "            else:\n",
    "                model.eval()   # Set model to evaluate mode\n",
    "\n",
    "            running_loss = 0.0\n",
    "            running_corrects = 0\n",
    "\n",
    "            # Iterate over data.\n",
    "            for (inputs, labels,paths) in dataloaders[phase]:\n",
    "#                 print(\"length of data\",inputs.shape)\n",
    "                inputs = inputs.to(device)\n",
    "                labels = labels.to(device)\n",
    "\n",
    "                # zero the parameter gradients\n",
    "                optimizer.zero_grad()\n",
    "\n",
    "                # forward\n",
    "                # track history if only in train\n",
    "                with torch.set_grad_enabled(phase == 'train'):\n",
    "                    outputs = model(inputs)\n",
    "                    _, preds = torch.max(outputs, 1)\n",
    "                    loss = criterion(outputs, labels)\n",
    "\n",
    "                    # backward + optimize only if in training phase\n",
    "                    if phase == 'train':\n",
    "                        loss.backward()\n",
    "                        optimizer.step()\n",
    "\n",
    "                # statistics\n",
    "                running_loss += loss.item() * inputs.size(0)\n",
    "                running_corrects += torch.sum(preds == labels.data)\n",
    "            if phase == 'train':\n",
    "                scheduler.step()\n",
    "\n",
    "            epoch_loss = running_loss / dataset_sizes[phase]\n",
    "            epoch_acc = running_corrects.double() / dataset_sizes[phase]\n",
    "\n",
    "            print('{} Loss: {:.4f} Acc: {:.4f}'.format(\n",
    "                phase, epoch_loss, epoch_acc))\n",
    "\n",
    "            # deep copy the model\n",
    "            if phase == 'val' and epoch_acc >= best_acc:\n",
    "                best_acc = epoch_acc\n",
    "                best_model_wts = copy.deepcopy(model.state_dict())\n",
    "#                 \n",
    "                \n",
    "            prefix = ''\n",
    "            if phase == 'val':\n",
    "                prefix = 'val_'\n",
    "\n",
    "            logs[prefix + 'log loss'] = epoch_loss\n",
    "            logs[prefix + 'accuracy'] = epoch_acc\n",
    "            \n",
    "#             if epoch_acc >= 1 and phase == 'val' and loss <= 0.0001:\n",
    "#                 print(\"Training Ended\")\n",
    "#                 model.load_state_dict(best_model_wts)\n",
    "#                 return model\n",
    "                \n",
    "        liveloss.update(logs)\n",
    "        liveloss.send()\n",
    "\n",
    "        print()\n",
    "\n",
    "    time_elapsed = time.time() - since\n",
    "    print('Training complete in {:.0f}m {:.0f}s'.format(\n",
    "        time_elapsed // 60, time_elapsed % 60))\n",
    "    print('Best val Acc: {:4f}'.format(best_acc))\n",
    "\n",
    "    # load best model weights\n",
    "    model.load_state_dict(best_model_wts)\n",
    "    return model"
   ]
  },
  {
   "cell_type": "code",
   "execution_count": 8,
   "metadata": {},
   "outputs": [],
   "source": [
    "def train_model_with_sam(model, criterion, optimizer, scheduler, num_epochs=25):\n",
    "    \n",
    "    best_model_wts = copy.deepcopy(model.state_dict())\n",
    "    best_acc = 0.0\n",
    "    since = time.time()\n",
    "#     since = time.time()\n",
    "    liveloss = PlotLosses()\n",
    "    \n",
    "    for epoch in range(num_epochs):\n",
    "        logs = {}\n",
    "        print('Epoch {}/{}'.format(epoch, num_epochs - 1))\n",
    "        print('-' * 10)\n",
    "        # Each epoch has a training and validation phase\n",
    "        for phase in ['train', 'val']:\n",
    "            if phase == 'train':\n",
    "                model.train()  # Set model to training mode\n",
    "            else:\n",
    "                model.eval()   # Set model to evaluate mode\n",
    "\n",
    "            running_loss = 0.0\n",
    "            running_corrects = 0\n",
    "            \n",
    "            # Iterate over data.\n",
    "            for (inputs, labels,paths) in dataloaders[phase]:\n",
    "#                 print(\"length of data\",inputs.shape)\n",
    "                inputs = inputs.to(device)\n",
    "                labels = labels.to(device)\n",
    "\n",
    "                # zero the parameter gradients\n",
    "                optimizer.zero_grad()\n",
    "\n",
    "                # forward\n",
    "                # track history if only in train\n",
    "                with torch.set_grad_enabled(phase == 'train'):\n",
    "                    outputs = model(inputs)\n",
    "                    _, preds = torch.max(outputs, 1)\n",
    "                    loss = criterion(outputs, labels)\n",
    "\n",
    "                    # backward + optimize only if in training phase\n",
    "                    if phase == 'train':\n",
    "                        loss.backward()\n",
    "#                         optimizer.step()\n",
    "\n",
    "                        def closure():\n",
    "                            outputs = model(inputs)\n",
    "                            _, preds = torch.max(outputs, 1)\n",
    "                            loss = criterion(outputs, labels)\n",
    "                            loss.backward()\n",
    "                            return loss\n",
    "                \n",
    "                        optimizer.step(closure)\n",
    "                    \n",
    "                \n",
    "\n",
    "                # statistics\n",
    "                running_loss += loss.item() * inputs.size(0)\n",
    "                running_corrects += torch.sum(preds == labels.data)\n",
    "            if phase == 'train':\n",
    "                scheduler.step()\n",
    "\n",
    "            epoch_loss = running_loss / dataset_sizes[phase]\n",
    "            epoch_acc = running_corrects.double() / dataset_sizes[phase]\n",
    "\n",
    "            print('{} Loss: {:.4f} Acc: {:.4f}'.format(\n",
    "                phase, epoch_loss, epoch_acc))\n",
    "\n",
    "            # deep copy the model\n",
    "            if phase == 'val' and epoch_acc >= best_acc:\n",
    "                best_acc = epoch_acc\n",
    "                best_model_wts = copy.deepcopy(model.state_dict())\n",
    "            \n",
    "            \n",
    "            prefix = ''\n",
    "            if phase == 'val':\n",
    "                prefix = 'val_'\n",
    "\n",
    "            logs[prefix + 'log loss'] = epoch_loss\n",
    "            logs[prefix + 'accuracy'] = epoch_acc\n",
    "            \n",
    "            \n",
    "        liveloss.update(logs)\n",
    "        liveloss.send()    \n",
    "        print()\n",
    "            \n",
    "            \n",
    "            \n",
    "    time_elapsed = time.time() - since\n",
    "    print('Training complete in {:.0f}m {:.0f}s'.format(\n",
    "        time_elapsed // 60, time_elapsed % 60))\n",
    "    print('Best val Acc: {:4f}'.format(best_acc))\n",
    "\n",
    "    # load best model weights\n",
    "    model.load_state_dict(best_model_wts)\n",
    "    return model\n",
    "        "
   ]
  },
  {
   "cell_type": "code",
   "execution_count": 9,
   "metadata": {},
   "outputs": [],
   "source": [
    "def visualize_model(model, num_images=6):\n",
    "    was_training = model.training\n",
    "    model.eval()\n",
    "    images_so_far = 0\n",
    "    fig = plt.figure()\n",
    "\n",
    "    with torch.no_grad():\n",
    "        for i, (inputs, labels,paths) in enumerate(dataloaders['val']):\n",
    "            inputs = inputs.to(device)\n",
    "            labels = labels.to(device)\n",
    "            \n",
    "            print(datetime.datetime.now())\n",
    "            outputs = model(inputs)\n",
    "            _, preds = torch.max(outputs, 1)\n",
    "            print(datetime.datetime.now())\n",
    "            print(preds)\n",
    "#             if 1 not in preds:\n",
    "#                 continue\n",
    "            for j in range(inputs.size()[0]):\n",
    "                images_so_far += 1\n",
    "                ax = plt.subplot(num_images//2, 2, images_so_far)\n",
    "                ax.axis('off')\n",
    "                ax.set_title('predicted: {}'.format(class_names[preds[j]]))\n",
    "                imshow(inputs.cpu().data[j])\n",
    "\n",
    "                if images_so_far == num_images:\n",
    "                    model.train(mode=was_training)\n",
    "                    return\n",
    "        model.train(mode=was_training)"
   ]
  },
  {
   "cell_type": "code",
   "execution_count": 10,
   "metadata": {},
   "outputs": [],
   "source": [
    "model_ft = models.resnet18(pretrained=True)\n",
    "num_ftrs = model_ft.fc.in_features\n",
    "# Here the size of each output sample is set to 2.\n",
    "# Alternatively, it can be generalized to nn.Linear(num_ftrs, len(class_names)).\n",
    "model_ft.fc = nn.Linear(num_ftrs, NUMBER_OF_CLASSES)\n",
    "\n",
    "model_ft = model_ft.to(device)\n",
    "\n",
    "criterion = nn.CrossEntropyLoss()\n",
    "\n",
    "# Observe that all parameters are being optimized\n",
    "# optimizer_ft = optim.SGD(model_ft.parameters(), lr=0.001, momentum=0.9)\n",
    "# optimizer_ft = optim.Adam(model_ft.parameters(), lr=0.001, betas=(0.9, 0.999), eps=1e-08, weight_decay=0, amsgrad=False)\n",
    "\n",
    "#sam\n",
    "base_optimizer = optim.SGD  # define an optimizer for the \"sharpness-aware\" update\n",
    "optimizer_ft = SAM(model_ft.parameters(), base_optimizer, lr=0.001, momentum=0.9)\n",
    "\n",
    "\n",
    "\n",
    "# Decay LR by a factor of 0.1 every 7 epochs\n",
    "exp_lr_scheduler = lr_scheduler.StepLR(optimizer_ft, step_size=3, gamma=0.1)"
   ]
  },
  {
   "cell_type": "code",
   "execution_count": 11,
   "metadata": {
    "scrolled": true
   },
   "outputs": [
    {
     "data": {
      "image/png": "[encoded data removed]",
      "text/plain": [
       "<Figure size 864x576 with 2 Axes>"
      ]
     },
     "metadata": {
      "needs_background": "light"
     },
     "output_type": "display_data"
    },
    {
     "name": "stdout",
     "output_type": "stream",
     "text": [
      "accuracy\n",
      "\ttraining         \t (min:    0.817, max:    0.922, cur:    0.922)\n",
      "\tvalidation       \t (min:    0.946, max:    0.962, cur:    0.962)\n",
      "log loss\n",
      "\ttraining         \t (min:    0.265, max:    0.530, cur:    0.265)\n",
      "\tvalidation       \t (min:    0.132, max:    0.187, cur:    0.151)\n",
      "\n",
      "Training complete in 1m 53s\n",
      "Best val Acc: 0.962042\n"
     ]
    }
   ],
   "source": [
    "# callbacks = [EarlyStopping(monitor='val_loss', patience=5)]\n",
    "# model_ft.set_callbacks(callbacks)\n",
    "# model_ft = train_model(model_ft, criterion, optimizer_ft, exp_lr_scheduler,\n",
    "#                        num_epochs=10)\n",
    "\n",
    "model_ft = train_model_with_sam(model_ft, criterion, optimizer_ft, exp_lr_scheduler,\n",
    "                       num_epochs=3)"
   ]
  },
  {
   "cell_type": "code",
   "execution_count": 12,
   "metadata": {},
   "outputs": [
    {
     "name": "stdout",
     "output_type": "stream",
     "text": [
      "2021-09-07 11:10:25.299553\n",
      "2021-09-07 11:10:25.305392\n",
      "tensor([0, 1, 0, 0], device='cuda:0')\n"
     ]
    },
    {
     "data": {
      "image/png": "[encoded data removed]",
      "text/plain": [
       "<Figure size 432x288 with 1 Axes>"
      ]
     },
     "metadata": {
      "needs_background": "light"
     },
     "output_type": "display_data"
    },
    {
     "data": {
      "image/png": "[encoded data removed]",
      "text/plain": [
       "<Figure size 432x288 with 1 Axes>"
      ]
     },
     "metadata": {
      "needs_background": "light"
     },
     "output_type": "display_data"
    },
    {
     "data": {
      "image/png": "[encoded data removed]",
      "text/plain": [
       "<Figure size 432x288 with 1 Axes>"
      ]
     },
     "metadata": {
      "needs_background": "light"
     },
     "output_type": "display_data"
    },
    {
     "data": {
      "image/png": "[encoded data removed]",
      "text/plain": [
       "<Figure size 432x288 with 1 Axes>"
      ]
     },
     "metadata": {
      "needs_background": "light"
     },
     "output_type": "display_data"
    }
   ],
   "source": [
    "import datetime\n",
    "\n",
    "# model_ft = model_ft.to(\"cpu\")\n",
    "\n",
    "visualize_model(model_ft,4)\n",
    "\n",
    "plt.ioff()\n",
    "plt.show()"
   ]
  },
  {
   "cell_type": "code",
   "execution_count": 13,
   "metadata": {},
   "outputs": [
    {
     "name": "stdout",
     "output_type": "stream",
     "text": [
      "done------------>\n"
     ]
    }
   ],
   "source": [
    "import time\n",
    "groundTruth = []\n",
    "prediction = []\n",
    "# device= \"cpu\"\n",
    "was_training = model_ft.training\n",
    "model_ft = model_ft.to(device)\n",
    "model_ft.eval()\n",
    "# print(model_ft.training)\n",
    "with torch.no_grad():\n",
    "    for i, (inputs, labels,paths) in enumerate(dataloaders['val']):\n",
    "        inputs = inputs.to(device)\n",
    "        labels = labels.to(device)\n",
    "#         print(paths)\n",
    "#         print(time.time())\n",
    "    \n",
    "\n",
    "        outputs = model_ft(inputs)\n",
    "\n",
    "    \n",
    "\n",
    "        _, preds = torch.max(outputs, 1)\n",
    "        \n",
    "#         for i in preds:\n",
    "#             print(class_names[i])\n",
    "\n",
    "#         print(time.time())\n",
    "\n",
    "        for i,val in enumerate(preds):\n",
    "            if val != labels[i]:\n",
    "                ima = cv2.imread(paths[i])\n",
    "                cv2.imwrite(\"./data/deepdata/ana/-\"+str(labels[i])+\"-\"+str(val)+\"(\"+paths[i][27:-4]+\")\"+\".jpg\",ima)\n",
    "#                 print(\"./data/deepdata/ana/-\"+str(labels[i])+\"-\"+str(val)+\"(\"+paths[i][27:-4]+\")\"+\".jpg\")\n",
    "        prediction.extend(preds.cpu().numpy())\n",
    "        groundTruth.extend(labels.cpu().numpy())\n",
    "    \n",
    "model_ft.train(mode = True)\n",
    "print(\"done------------>\")"
   ]
  },
  {
   "cell_type": "code",
   "execution_count": 14,
   "metadata": {},
   "outputs": [
    {
     "data": {
      "text/plain": [
       "array([[377,  11],\n",
       "       [ 18, 358]])"
      ]
     },
     "execution_count": 14,
     "metadata": {},
     "output_type": "execute_result"
    }
   ],
   "source": [
    "from sklearn.metrics import confusion_matrix\n",
    "confusion_matrix(groundTruth, prediction)"
   ]
  },
  {
   "cell_type": "code",
   "execution_count": 15,
   "metadata": {},
   "outputs": [
    {
     "name": "stdout",
     "output_type": "stream",
     "text": [
      "precision 0.9620418848167539\n",
      "recall 0.9620418848167539\n",
      "f1 score 0.9620418848167539\n"
     ]
    }
   ],
   "source": [
    "from sklearn.metrics import precision_score, recall_score\n",
    "from sklearn.metrics import f1_score\n",
    "print(\"precision\",precision_score(groundTruth, prediction,average='micro'))\n",
    "print(\"recall\",recall_score(groundTruth, prediction,average='micro'))\n",
    "print(\"f1 score\",f1_score(groundTruth, prediction,average='micro'))"
   ]
  },
  {
   "cell_type": "code",
   "execution_count": 16,
   "metadata": {},
   "outputs": [
    {
     "name": "stdout",
     "output_type": "stream",
     "text": [
      "0   c\n",
      "1   t\n",
      "['c', 't']\n"
     ]
    }
   ],
   "source": [
    "for i,name in enumerate(class_names):\n",
    "    print(i,\" \",name)\n",
    "print(class_names)"
   ]
  },
  {
   "cell_type": "code",
   "execution_count": 17,
   "metadata": {},
   "outputs": [],
   "source": [
    "#saving the model\n",
    "torch.save(model_ft.state_dict(),\"kirchi_model.pth\")"
   ]
  },
  {
   "cell_type": "code",
   "execution_count": 18,
   "metadata": {},
   "outputs": [
    {
     "data": {
      "text/plain": [
       "<All keys matched successfully>"
      ]
     },
     "execution_count": 18,
     "metadata": {},
     "output_type": "execute_result"
    }
   ],
   "source": [
    "model_ft = models.resnet18(pretrained = False)\n",
    "num_ftrs = model_ft.fc.in_features\n",
    "model_ft.fc = nn.Linear(num_ftrs, 2)\n",
    "model_ft.load_state_dict(torch.load(\"./kirchi_model.pth\"))\n",
    "# model_ft = model_ft.to(\"cuda\")"
   ]
  },
  {
   "cell_type": "code",
   "execution_count": 19,
   "metadata": {},
   "outputs": [
    {
     "data": {
      "text/plain": [
       "['flight_pink',\n",
       " 'cb_black',\n",
       " 'dots_orange',\n",
       " 'dots_grey',\n",
       " 'club_blue',\n",
       " 'cross_green',\n",
       " 'cb_blue',\n",
       " 'dots_green',\n",
       " 'elephant_blue',\n",
       " 'dots_red']"
      ]
     },
     "execution_count": 19,
     "metadata": {},
     "output_type": "execute_result"
    }
   ],
   "source": [
    "['flight_pink', 'cb_black', 'dots_orange', 'dots_grey', 'club_blue', 'cross_green', 'cb_blue', 'dots_green', 'elephant_blue', 'dots_red']"
   ]
  },
  {
   "cell_type": "code",
   "execution_count": 20,
   "metadata": {},
   "outputs": [],
   "source": [
    "# kirchiTransforms = transforms.Compose([\n",
    "#                 transforms.ToPILImage(),\n",
    "#                 transforms.Resize(100,),\n",
    "#                 transforms.Grayscale(num_output_channels=3),\n",
    "#                 transforms.RandomHorizontalFlip(),\n",
    "#                 transforms.ToTensor(),\n",
    "#                 transforms.Normalize([0.485, 0.456, 0.406], [0.229, 0.224, 0.225])\n",
    "#             ])\n",
    "kirchiTransforms = Compose([\n",
    "#                 Resize(100, 100,p=1),\n",
    "                ToGray(p=1.0),\n",
    "                Normalize(mean=[0.485, 0.456, 0.406], std=[0.229, 0.224, 0.225], max_pixel_value=255.0, p=1.0),\n",
    "                ToTensorV2(p=1.0),\n",
    "            ])\n",
    "\n"
   ]
  },
  {
   "cell_type": "code",
   "execution_count": 21,
   "metadata": {},
   "outputs": [
    {
     "name": "stdout",
     "output_type": "stream",
     "text": [
      "tensor([1])   /home/cvr/Pictures/slvision1/inferkirchis/0/133.jpg\n",
      "tensor([1])   /home/cvr/Pictures/slvision1/inferkirchis/0/114.jpg\n",
      "tensor([1])   /home/cvr/Pictures/slvision1/inferkirchis/0/206.jpg\n",
      "tensor([1])   /home/cvr/Pictures/slvision1/inferkirchis/0/144.jpg\n",
      "tensor([1])   /home/cvr/Pictures/slvision1/inferkirchis/0/210.jpg\n",
      "tensor([1])   /home/cvr/Pictures/slvision1/inferkirchis/0/45.jpg\n",
      "tensor([1])   /home/cvr/Pictures/slvision1/inferkirchis/0/158.jpg\n",
      "tensor([1])   /home/cvr/Pictures/slvision1/inferkirchis/0/256.jpg\n",
      "tensor([1])   /home/cvr/Pictures/slvision1/inferkirchis/0/139.jpg\n",
      "tensor([1])   /home/cvr/Pictures/slvision1/inferkirchis/0/147.jpg\n",
      "tensor([1])   /home/cvr/Pictures/slvision1/inferkirchis/0/21.jpg\n",
      "tensor([1])   /home/cvr/Pictures/slvision1/inferkirchis/0/148.jpg\n",
      "tensor([1])   /home/cvr/Pictures/slvision1/inferkirchis/0/8.jpg\n",
      "tensor([1])   /home/cvr/Pictures/slvision1/inferkirchis/0/253.jpg\n",
      "tensor([1])   /home/cvr/Pictures/slvision1/inferkirchis/0/166.jpg\n",
      "tensor([1])   /home/cvr/Pictures/slvision1/inferkirchis/0/119.jpg\n",
      "tensor([1])   /home/cvr/Pictures/slvision1/inferkirchis/0/141.jpg\n",
      "tensor([1])   /home/cvr/Pictures/slvision1/inferkirchis/0/29.jpg\n",
      "tensor([1])   /home/cvr/Pictures/slvision1/inferkirchis/0/248.jpg\n",
      "tensor([1])   /home/cvr/Pictures/slvision1/inferkirchis/0/61.jpg\n",
      "tensor([1])   /home/cvr/Pictures/slvision1/inferkirchis/0/18.jpg\n",
      "tensor([1])   /home/cvr/Pictures/slvision1/inferkirchis/0/98.jpg\n",
      "tensor([1])   /home/cvr/Pictures/slvision1/inferkirchis/0/183.jpg\n",
      "tensor([1])   /home/cvr/Pictures/slvision1/inferkirchis/0/179.jpg\n",
      "tensor([1])   /home/cvr/Pictures/slvision1/inferkirchis/0/62.jpg\n",
      "tensor([1])   /home/cvr/Pictures/slvision1/inferkirchis/0/129.jpg\n",
      "tensor([1])   /home/cvr/Pictures/slvision1/inferkirchis/0/137.jpg\n",
      "tensor([1])   /home/cvr/Pictures/slvision1/inferkirchis/0/1223.jpg\n",
      "tensor([1])   /home/cvr/Pictures/slvision1/inferkirchis/0/257.jpg\n",
      "tensor([1])   /home/cvr/Pictures/slvision1/inferkirchis/0/74.jpg\n",
      "tensor([1])   /home/cvr/Pictures/slvision1/inferkirchis/0/110.jpg\n",
      "tensor([1])   /home/cvr/Pictures/slvision1/inferkirchis/0/54.jpg\n",
      "tensor([1])   /home/cvr/Pictures/slvision1/inferkirchis/0/27.jpg\n",
      "tensor([1])   /home/cvr/Pictures/slvision1/inferkirchis/0/223.jpg\n",
      "tensor([1])   /home/cvr/Pictures/slvision1/inferkirchis/0/25.jpg\n",
      "tensor([1])   /home/cvr/Pictures/slvision1/inferkirchis/0/13.jpg\n",
      "tensor([1])   /home/cvr/Pictures/slvision1/inferkirchis/0/254.jpg\n",
      "tensor([1])   /home/cvr/Pictures/slvision1/inferkirchis/0/251.jpg\n",
      "tensor([1])   /home/cvr/Pictures/slvision1/inferkirchis/0/34.jpg\n",
      "tensor([1])   /home/cvr/Pictures/slvision1/inferkirchis/0/64.jpg\n",
      "tensor([1])   /home/cvr/Pictures/slvision1/inferkirchis/0/155.jpg\n",
      "tensor([1])   /home/cvr/Pictures/slvision1/inferkirchis/0/231.jpg\n",
      "tensor([1])   /home/cvr/Pictures/slvision1/inferkirchis/0/168.jpg\n",
      "tensor([1])   /home/cvr/Pictures/slvision1/inferkirchis/0/91.jpg\n",
      "tensor([1])   /home/cvr/Pictures/slvision1/inferkirchis/0/92.jpg\n",
      "tensor([1])   /home/cvr/Pictures/slvision1/inferkirchis/0/165.jpg\n",
      "tensor([1])   /home/cvr/Pictures/slvision1/inferkirchis/0/80.jpg\n",
      "tensor([1])   /home/cvr/Pictures/slvision1/inferkirchis/0/215.jpg\n",
      "tensor([1])   /home/cvr/Pictures/slvision1/inferkirchis/0/37.jpg\n",
      "tensor([1])   /home/cvr/Pictures/slvision1/inferkirchis/0/44.jpg\n",
      "tensor([1])   /home/cvr/Pictures/slvision1/inferkirchis/0/16.jpg\n",
      "tensor([1])   /home/cvr/Pictures/slvision1/inferkirchis/0/261.jpg\n",
      "tensor([1])   /home/cvr/Pictures/slvision1/inferkirchis/0/49.jpg\n",
      "tensor([1])   /home/cvr/Pictures/slvision1/inferkirchis/0/47.jpg\n",
      "tensor([1])   /home/cvr/Pictures/slvision1/inferkirchis/0/265.jpg\n",
      "tensor([1])   /home/cvr/Pictures/slvision1/inferkirchis/0/259.jpg\n",
      "tensor([1])   /home/cvr/Pictures/slvision1/inferkirchis/0/101.jpg\n",
      "tensor([1])   /home/cvr/Pictures/slvision1/inferkirchis/0/247.jpg\n",
      "tensor([1])   /home/cvr/Pictures/slvision1/inferkirchis/0/270.jpg\n",
      "tensor([1])   /home/cvr/Pictures/slvision1/inferkirchis/0/217.jpg\n",
      "tensor([1])   /home/cvr/Pictures/slvision1/inferkirchis/0/3.jpg\n",
      "tensor([1])   /home/cvr/Pictures/slvision1/inferkirchis/0/205.jpg\n",
      "tensor([1])   /home/cvr/Pictures/slvision1/inferkirchis/0/104.jpg\n",
      "tensor([1])   /home/cvr/Pictures/slvision1/inferkirchis/0/58.jpg\n",
      "tensor([1])   /home/cvr/Pictures/slvision1/inferkirchis/0/90.jpg\n",
      "tensor([1])   /home/cvr/Pictures/slvision1/inferkirchis/0/212.jpg\n",
      "tensor([1])   /home/cvr/Pictures/slvision1/inferkirchis/0/175.jpg\n",
      "tensor([1])   /home/cvr/Pictures/slvision1/inferkirchis/0/123.jpg\n",
      "tensor([1])   /home/cvr/Pictures/slvision1/inferkirchis/0/180.jpg\n",
      "tensor([1])   /home/cvr/Pictures/slvision1/inferkirchis/0/1224.jpg\n",
      "tensor([1])   /home/cvr/Pictures/slvision1/inferkirchis/0/63.jpg\n",
      "tensor([1])   /home/cvr/Pictures/slvision1/inferkirchis/0/73.jpg\n",
      "tensor([1])   /home/cvr/Pictures/slvision1/inferkirchis/0/88.jpg\n",
      "tensor([1])   /home/cvr/Pictures/slvision1/inferkirchis/0/46.jpg\n",
      "tensor([1])   /home/cvr/Pictures/slvision1/inferkirchis/0/69.jpg\n",
      "tensor([1])   /home/cvr/Pictures/slvision1/inferkirchis/0/246.jpg\n",
      "tensor([1])   /home/cvr/Pictures/slvision1/inferkirchis/0/117.jpg\n",
      "tensor([1])   /home/cvr/Pictures/slvision1/inferkirchis/0/1225.jpg\n",
      "tensor([1])   /home/cvr/Pictures/slvision1/inferkirchis/0/226.jpg\n",
      "tensor([1])   /home/cvr/Pictures/slvision1/inferkirchis/0/97.jpg\n",
      "tensor([1])   /home/cvr/Pictures/slvision1/inferkirchis/0/76.jpg\n",
      "tensor([1])   /home/cvr/Pictures/slvision1/inferkirchis/0/160.jpg\n",
      "tensor([1])   /home/cvr/Pictures/slvision1/inferkirchis/0/189.jpg\n",
      "tensor([1])   /home/cvr/Pictures/slvision1/inferkirchis/0/264.jpg\n",
      "tensor([1])   /home/cvr/Pictures/slvision1/inferkirchis/0/1219.jpg\n",
      "tensor([1])   /home/cvr/Pictures/slvision1/inferkirchis/0/1.jpg\n",
      "tensor([1])   /home/cvr/Pictures/slvision1/inferkirchis/0/4.jpg\n",
      "tensor([1])   /home/cvr/Pictures/slvision1/inferkirchis/0/109.jpg\n",
      "tensor([1])   /home/cvr/Pictures/slvision1/inferkirchis/0/173.jpg\n",
      "tensor([1])   /home/cvr/Pictures/slvision1/inferkirchis/0/213.jpg\n",
      "tensor([1])   /home/cvr/Pictures/slvision1/inferkirchis/0/135.jpg\n",
      "tensor([1])   /home/cvr/Pictures/slvision1/inferkirchis/0/153.jpg\n",
      "tensor([1])   /home/cvr/Pictures/slvision1/inferkirchis/0/200.jpg\n",
      "tensor([1])   /home/cvr/Pictures/slvision1/inferkirchis/0/186.jpg\n",
      "tensor([1])   /home/cvr/Pictures/slvision1/inferkirchis/0/57.jpg\n",
      "tensor([1])   /home/cvr/Pictures/slvision1/inferkirchis/0/102.jpg\n",
      "tensor([1])   /home/cvr/Pictures/slvision1/inferkirchis/0/35.jpg\n",
      "tensor([1])   /home/cvr/Pictures/slvision1/inferkirchis/0/142.jpg\n",
      "tensor([1])   /home/cvr/Pictures/slvision1/inferkirchis/0/9.jpg\n",
      "tensor([1])   /home/cvr/Pictures/slvision1/inferkirchis/0/85.jpg\n",
      "tensor([1])   /home/cvr/Pictures/slvision1/inferkirchis/0/89.jpg\n",
      "tensor([1])   /home/cvr/Pictures/slvision1/inferkirchis/0/228.jpg\n",
      "tensor([1])   /home/cvr/Pictures/slvision1/inferkirchis/0/105.jpg\n",
      "tensor([1])   /home/cvr/Pictures/slvision1/inferkirchis/0/241.jpg\n",
      "tensor([1])   /home/cvr/Pictures/slvision1/inferkirchis/0/67.jpg\n",
      "tensor([1])   /home/cvr/Pictures/slvision1/inferkirchis/0/227.jpg\n",
      "tensor([1])   /home/cvr/Pictures/slvision1/inferkirchis/0/5.jpg\n",
      "tensor([1])   /home/cvr/Pictures/slvision1/inferkirchis/0/55.jpg\n",
      "tensor([1])   /home/cvr/Pictures/slvision1/inferkirchis/0/79.jpg\n",
      "tensor([1])   /home/cvr/Pictures/slvision1/inferkirchis/0/1226.jpg\n",
      "tensor([1])   /home/cvr/Pictures/slvision1/inferkirchis/0/122.jpg\n",
      "tensor([1])   /home/cvr/Pictures/slvision1/inferkirchis/0/188.jpg\n",
      "tensor([1])   /home/cvr/Pictures/slvision1/inferkirchis/0/229.jpg\n",
      "tensor([1])   /home/cvr/Pictures/slvision1/inferkirchis/0/41.jpg\n",
      "tensor([1])   /home/cvr/Pictures/slvision1/inferkirchis/0/244.jpg\n",
      "tensor([1])   /home/cvr/Pictures/slvision1/inferkirchis/0/267.jpg\n",
      "tensor([1])   /home/cvr/Pictures/slvision1/inferkirchis/0/75.jpg\n",
      "tensor([1])   /home/cvr/Pictures/slvision1/inferkirchis/0/237.jpg\n",
      "tensor([1])   /home/cvr/Pictures/slvision1/inferkirchis/0/199.jpg\n",
      "tensor([1])   /home/cvr/Pictures/slvision1/inferkirchis/0/224.jpg\n",
      "tensor([1])   /home/cvr/Pictures/slvision1/inferkirchis/0/15.jpg\n",
      "tensor([1])   /home/cvr/Pictures/slvision1/inferkirchis/0/53.jpg\n",
      "tensor([1])   /home/cvr/Pictures/slvision1/inferkirchis/0/222.jpg\n",
      "tensor([1])   /home/cvr/Pictures/slvision1/inferkirchis/0/94.jpg\n",
      "tensor([1])   /home/cvr/Pictures/slvision1/inferkirchis/0/121.jpg\n",
      "tensor([1])   /home/cvr/Pictures/slvision1/inferkirchis/0/60.jpg\n",
      "tensor([1])   /home/cvr/Pictures/slvision1/inferkirchis/0/72.jpg\n",
      "tensor([1])   /home/cvr/Pictures/slvision1/inferkirchis/0/51.jpg\n",
      "tensor([1])   /home/cvr/Pictures/slvision1/inferkirchis/0/239.jpg\n",
      "tensor([1])   /home/cvr/Pictures/slvision1/inferkirchis/0/207.jpg\n"
     ]
    },
    {
     "name": "stdout",
     "output_type": "stream",
     "text": [
      "tensor([1])   /home/cvr/Pictures/slvision1/inferkirchis/0/249.jpg\n",
      "tensor([1])   /home/cvr/Pictures/slvision1/inferkirchis/0/203.jpg\n",
      "tensor([1])   /home/cvr/Pictures/slvision1/inferkirchis/0/157.jpg\n",
      "tensor([1])   /home/cvr/Pictures/slvision1/inferkirchis/0/130.jpg\n",
      "tensor([1])   /home/cvr/Pictures/slvision1/inferkirchis/0/201.jpg\n",
      "tensor([1])   /home/cvr/Pictures/slvision1/inferkirchis/0/99.jpg\n",
      "tensor([1])   /home/cvr/Pictures/slvision1/inferkirchis/0/269.jpg\n",
      "tensor([1])   /home/cvr/Pictures/slvision1/inferkirchis/0/192.jpg\n",
      "tensor([1])   /home/cvr/Pictures/slvision1/inferkirchis/0/174.jpg\n",
      "tensor([1])   /home/cvr/Pictures/slvision1/inferkirchis/0/82.jpg\n",
      "tensor([1])   /home/cvr/Pictures/slvision1/inferkirchis/0/132.jpg\n",
      "tensor([1])   /home/cvr/Pictures/slvision1/inferkirchis/0/1228.jpg\n",
      "tensor([1])   /home/cvr/Pictures/slvision1/inferkirchis/0/193.jpg\n",
      "tensor([1])   /home/cvr/Pictures/slvision1/inferkirchis/0/7.jpg\n",
      "tensor([1])   /home/cvr/Pictures/slvision1/inferkirchis/0/196.jpg\n",
      "tensor([1])   /home/cvr/Pictures/slvision1/inferkirchis/0/204.jpg\n",
      "tensor([1])   /home/cvr/Pictures/slvision1/inferkirchis/0/150.jpg\n",
      "tensor([1])   /home/cvr/Pictures/slvision1/inferkirchis/0/156.jpg\n",
      "tensor([1])   /home/cvr/Pictures/slvision1/inferkirchis/0/59.jpg\n",
      "tensor([1])   /home/cvr/Pictures/slvision1/inferkirchis/0/1220.jpg\n",
      "tensor([1])   /home/cvr/Pictures/slvision1/inferkirchis/0/11.jpg\n",
      "tensor([1])   /home/cvr/Pictures/slvision1/inferkirchis/0/39.jpg\n",
      "tensor([1])   /home/cvr/Pictures/slvision1/inferkirchis/0/218.jpg\n",
      "tensor([1])   /home/cvr/Pictures/slvision1/inferkirchis/0/235.jpg\n",
      "tensor([1])   /home/cvr/Pictures/slvision1/inferkirchis/0/12.jpg\n",
      "tensor([1])   /home/cvr/Pictures/slvision1/inferkirchis/0/40.jpg\n",
      "tensor([1])   /home/cvr/Pictures/slvision1/inferkirchis/0/14.jpg\n",
      "tensor([1])   /home/cvr/Pictures/slvision1/inferkirchis/0/124.jpg\n",
      "tensor([1])   /home/cvr/Pictures/slvision1/inferkirchis/0/118.jpg\n",
      "tensor([1])   /home/cvr/Pictures/slvision1/inferkirchis/0/50.jpg\n",
      "tensor([1])   /home/cvr/Pictures/slvision1/inferkirchis/0/271.jpg\n",
      "tensor([1])   /home/cvr/Pictures/slvision1/inferkirchis/0/190.jpg\n",
      "tensor([1])   /home/cvr/Pictures/slvision1/inferkirchis/0/83.jpg\n",
      "tensor([1])   /home/cvr/Pictures/slvision1/inferkirchis/0/116.jpg\n",
      "tensor([1])   /home/cvr/Pictures/slvision1/inferkirchis/0/184.jpg\n",
      "tensor([1])   /home/cvr/Pictures/slvision1/inferkirchis/0/43.jpg\n",
      "tensor([1])   /home/cvr/Pictures/slvision1/inferkirchis/0/221.jpg\n",
      "tensor([1])   /home/cvr/Pictures/slvision1/inferkirchis/0/113.jpg\n",
      "tensor([1])   /home/cvr/Pictures/slvision1/inferkirchis/0/100.jpg\n",
      "tensor([1])   /home/cvr/Pictures/slvision1/inferkirchis/0/107.jpg\n",
      "tensor([1])   /home/cvr/Pictures/slvision1/inferkirchis/0/214.jpg\n",
      "tensor([1])   /home/cvr/Pictures/slvision1/inferkirchis/0/145.jpg\n",
      "tensor([1])   /home/cvr/Pictures/slvision1/inferkirchis/0/182.jpg\n",
      "tensor([1])   /home/cvr/Pictures/slvision1/inferkirchis/0/266.jpg\n",
      "tensor([1])   /home/cvr/Pictures/slvision1/inferkirchis/0/240.jpg\n",
      "tensor([1])   /home/cvr/Pictures/slvision1/inferkirchis/0/120.jpg\n",
      "tensor([1])   /home/cvr/Pictures/slvision1/inferkirchis/0/2.jpg\n",
      "tensor([1])   /home/cvr/Pictures/slvision1/inferkirchis/0/272.jpg\n",
      "tensor([1])   /home/cvr/Pictures/slvision1/inferkirchis/0/86.jpg\n",
      "tensor([1])   /home/cvr/Pictures/slvision1/inferkirchis/0/125.jpg\n",
      "tensor([1])   /home/cvr/Pictures/slvision1/inferkirchis/0/112.jpg\n",
      "tensor([1])   /home/cvr/Pictures/slvision1/inferkirchis/0/30.jpg\n",
      "tensor([1])   /home/cvr/Pictures/slvision1/inferkirchis/0/167.jpg\n",
      "tensor([1])   /home/cvr/Pictures/slvision1/inferkirchis/0/208.jpg\n",
      "tensor([1])   /home/cvr/Pictures/slvision1/inferkirchis/0/243.jpg\n",
      "tensor([1])   /home/cvr/Pictures/slvision1/inferkirchis/0/71.jpg\n",
      "tensor([1])   /home/cvr/Pictures/slvision1/inferkirchis/0/263.jpg\n",
      "tensor([1])   /home/cvr/Pictures/slvision1/inferkirchis/0/20.jpg\n",
      "tensor([1])   /home/cvr/Pictures/slvision1/inferkirchis/0/198.jpg\n",
      "tensor([1])   /home/cvr/Pictures/slvision1/inferkirchis/0/87.jpg\n",
      "tensor([1])   /home/cvr/Pictures/slvision1/inferkirchis/0/33.jpg\n",
      "tensor([1])   /home/cvr/Pictures/slvision1/inferkirchis/0/255.jpg\n",
      "tensor([1])   /home/cvr/Pictures/slvision1/inferkirchis/0/111.jpg\n",
      "tensor([1])   /home/cvr/Pictures/slvision1/inferkirchis/0/197.jpg\n",
      "tensor([1])   /home/cvr/Pictures/slvision1/inferkirchis/0/195.jpg\n",
      "tensor([1])   /home/cvr/Pictures/slvision1/inferkirchis/0/19.jpg\n",
      "tensor([1])   /home/cvr/Pictures/slvision1/inferkirchis/0/176.jpg\n",
      "tensor([1])   /home/cvr/Pictures/slvision1/inferkirchis/0/268.jpg\n",
      "tensor([1])   /home/cvr/Pictures/slvision1/inferkirchis/0/127.jpg\n",
      "tensor([1])   /home/cvr/Pictures/slvision1/inferkirchis/0/230.jpg\n",
      "tensor([1])   /home/cvr/Pictures/slvision1/inferkirchis/0/1229.jpg\n",
      "tensor([1])   /home/cvr/Pictures/slvision1/inferkirchis/0/65.jpg\n",
      "tensor([1])   /home/cvr/Pictures/slvision1/inferkirchis/0/187.jpg\n",
      "tensor([1])   /home/cvr/Pictures/slvision1/inferkirchis/0/84.jpg\n",
      "tensor([1])   /home/cvr/Pictures/slvision1/inferkirchis/0/24.jpg\n",
      "tensor([1])   /home/cvr/Pictures/slvision1/inferkirchis/0/48.jpg\n",
      "tensor([1])   /home/cvr/Pictures/slvision1/inferkirchis/0/216.jpg\n",
      "tensor([1])   /home/cvr/Pictures/slvision1/inferkirchis/0/26.jpg\n",
      "tensor([1])   /home/cvr/Pictures/slvision1/inferkirchis/0/178.jpg\n",
      "tensor([1])   /home/cvr/Pictures/slvision1/inferkirchis/0/31.jpg\n",
      "tensor([1])   /home/cvr/Pictures/slvision1/inferkirchis/0/1221.jpg\n",
      "tensor([1])   /home/cvr/Pictures/slvision1/inferkirchis/0/181.jpg\n",
      "tensor([1])   /home/cvr/Pictures/slvision1/inferkirchis/0/169.jpg\n",
      "tensor([1])   /home/cvr/Pictures/slvision1/inferkirchis/0/191.jpg\n",
      "tensor([1])   /home/cvr/Pictures/slvision1/inferkirchis/0/273.jpg\n",
      "tensor([1])   /home/cvr/Pictures/slvision1/inferkirchis/0/1227.jpg\n",
      "tensor([1])   /home/cvr/Pictures/slvision1/inferkirchis/0/66.jpg\n",
      "tensor([1])   /home/cvr/Pictures/slvision1/inferkirchis/0/258.jpg\n",
      "tensor([1])   /home/cvr/Pictures/slvision1/inferkirchis/0/108.jpg\n",
      "tensor([1])   /home/cvr/Pictures/slvision1/inferkirchis/0/163.jpg\n",
      "tensor([1])   /home/cvr/Pictures/slvision1/inferkirchis/0/32.jpg\n",
      "tensor([1])   /home/cvr/Pictures/slvision1/inferkirchis/0/115.jpg\n",
      "tensor([1])   /home/cvr/Pictures/slvision1/inferkirchis/0/211.jpg\n",
      "tensor([1])   /home/cvr/Pictures/slvision1/inferkirchis/0/68.jpg\n",
      "tensor([1])   /home/cvr/Pictures/slvision1/inferkirchis/0/225.jpg\n",
      "tensor([1])   /home/cvr/Pictures/slvision1/inferkirchis/0/252.jpg\n",
      "tensor([1])   /home/cvr/Pictures/slvision1/inferkirchis/0/52.jpg\n",
      "tensor([1])   /home/cvr/Pictures/slvision1/inferkirchis/0/151.jpg\n",
      "tensor([1])   /home/cvr/Pictures/slvision1/inferkirchis/0/78.jpg\n",
      "tensor([1])   /home/cvr/Pictures/slvision1/inferkirchis/0/220.jpg\n",
      "tensor([1])   /home/cvr/Pictures/slvision1/inferkirchis/0/95.jpg\n",
      "tensor([1])   /home/cvr/Pictures/slvision1/inferkirchis/0/38.jpg\n",
      "tensor([1])   /home/cvr/Pictures/slvision1/inferkirchis/0/1222.jpg\n",
      "tensor([1])   /home/cvr/Pictures/slvision1/inferkirchis/0/236.jpg\n",
      "tensor([1])   /home/cvr/Pictures/slvision1/inferkirchis/0/209.jpg\n",
      "tensor([1])   /home/cvr/Pictures/slvision1/inferkirchis/0/17.jpg\n",
      "tensor([1])   /home/cvr/Pictures/slvision1/inferkirchis/0/232.jpg\n",
      "tensor([1])   /home/cvr/Pictures/slvision1/inferkirchis/0/136.jpg\n",
      "tensor([1])   /home/cvr/Pictures/slvision1/inferkirchis/0/131.jpg\n",
      "tensor([1])   /home/cvr/Pictures/slvision1/inferkirchis/0/103.jpg\n",
      "tensor([1])   /home/cvr/Pictures/slvision1/inferkirchis/0/77.jpg\n",
      "tensor([1])   /home/cvr/Pictures/slvision1/inferkirchis/0/234.jpg\n",
      "tensor([1])   /home/cvr/Pictures/slvision1/inferkirchis/0/140.jpg\n",
      "tensor([1])   /home/cvr/Pictures/slvision1/inferkirchis/0/143.jpg\n",
      "tensor([1])   /home/cvr/Pictures/slvision1/inferkirchis/0/36.jpg\n",
      "tensor([1])   /home/cvr/Pictures/slvision1/inferkirchis/0/219.jpg\n",
      "tensor([1])   /home/cvr/Pictures/slvision1/inferkirchis/0/177.jpg\n",
      "tensor([1])   /home/cvr/Pictures/slvision1/inferkirchis/0/22.jpg\n",
      "tensor([1])   /home/cvr/Pictures/slvision1/inferkirchis/0/245.jpg\n",
      "tensor([1])   /home/cvr/Pictures/slvision1/inferkirchis/0/172.jpg\n",
      "tensor([1])   /home/cvr/Pictures/slvision1/inferkirchis/0/6.jpg\n",
      "tensor([1])   /home/cvr/Pictures/slvision1/inferkirchis/0/81.jpg\n",
      "tensor([1])   /home/cvr/Pictures/slvision1/inferkirchis/0/93.jpg\n",
      "tensor([1])   /home/cvr/Pictures/slvision1/inferkirchis/0/134.jpg\n",
      "tensor([1])   /home/cvr/Pictures/slvision1/inferkirchis/0/106.jpg\n",
      "tensor([1])   /home/cvr/Pictures/slvision1/inferkirchis/0/162.jpg\n",
      "tensor([1])   /home/cvr/Pictures/slvision1/inferkirchis/0/96.jpg\n",
      "tensor([1])   /home/cvr/Pictures/slvision1/inferkirchis/0/128.jpg\n",
      "tensor([1])   /home/cvr/Pictures/slvision1/inferkirchis/0/170.jpg\n"
     ]
    }
   ],
   "source": [
    "\n",
    "# folder = \"/home/cvr/Pictures/slvision1/inferkirchis/0/\"\n",
    "folder = \"/home/cvr/Pictures/slvision1/inferkirchis/0/\"\n",
    "\n",
    "\n",
    "for file in os.listdir(folder):\n",
    "    image = cv2.imread(folder+file)\n",
    "    saving_image = image.copy()\n",
    "    image = cv2.resize(image,(170,25))\n",
    "    image = kirchiTransforms(image = image)\n",
    "#     print(image)\n",
    "    output  = model_ft(image[\"image\"].unsqueeze(0))\n",
    "    _, predkir = torch.max(output, 1)\n",
    "    print(predkir,\" \",\"/home/cvr/Pictures/slvision1/inferkirchis/0/\"+file)\n",
    "    cv2.imwrite(\"./data/deepdata/deployment_test/\"+str(predkir[0].numpy())+\"/\"+file,saving_image)\n",
    "#     print(\"./data/deepdata/deployment_test/\"+str(predkir[0].numpy())+\"/\"+file)"
   ]
  },
  {
   "cell_type": "code",
   "execution_count": null,
   "metadata": {},
   "outputs": [],
   "source": []
  }
 ],
 "metadata": {
  "kernelspec": {
   "display_name": "ml",
   "language": "python",
   "name": "ml"
  },
  "language_info": {
   "codemirror_mode": {
    "name": "ipython",
    "version": 3
   },
   "file_extension": ".py",
   "mimetype": "text/x-python",
   "name": "python",
   "nbconvert_exporter": "python",
   "pygments_lexer": "ipython3",
   "version": "3.7.11"
  }
 },
 "nbformat": 4,
 "nbformat_minor": 4
}
