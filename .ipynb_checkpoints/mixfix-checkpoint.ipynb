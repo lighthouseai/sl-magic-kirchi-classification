{
 "cells": [
  {
   "cell_type": "code",
   "execution_count": 2,
   "metadata": {},
   "outputs": [],
   "source": [
    "import cv2\n",
    "from sklearn.svm import SVC"
   ]
  },
  {
   "cell_type": "code",
   "execution_count": null,
   "metadata": {},
   "outputs": [],
   "source": [
    "def createModel(self):\n",
    "        foldername = \"./content\"\n",
    "        y = []\n",
    "        X = []\n",
    "        H = []\n",
    "        for root,dirs,_ in os.walk(foldername):\n",
    "            for d in dirs:\n",
    "                mypath = os.path.join(root,d)\n",
    "                for file in os.listdir(mypath):                   \n",
    "                    image = cv2.imread(os.path.join(mypath,file))\n",
    "                    #predImage\n",
    "                    image = cv2.cvtColor(image,cv2.COLOR_BGR2HSV)\n",
    "                    # hist = cv2.calcHist([image],[0],None,[256],[0,256])\n",
    "                    # hist = hist.reshape(-1)\n",
    "                    # print(\"hist shape:\",hist.shape)\n",
    "                    image = cv2.resize(image,(160,25))\n",
    "                    image = image.reshape(-1)\n",
    "                    X.append(image)\n",
    "                    y.append(d)\n",
    "                    # H.append(hist)\n",
    "        poly_kernel_svm_clf = Pipeline([\n",
    "        (\"scaler\", StandardScaler()),\n",
    "        (\"svm_clf\", SVC(kernel=\"poly\", degree=3, coef0=1, C=5))\n",
    "        ])\n",
    "        \n",
    "        \n",
    "        return clfsvc"
   ]
  }
 ],
 "metadata": {
  "kernelspec": {
   "display_name": "ml",
   "language": "python",
   "name": "ml"
  },
  "language_info": {
   "codemirror_mode": {
    "name": "ipython",
    "version": 3
   },
   "file_extension": ".py",
   "mimetype": "text/x-python",
   "name": "python",
   "nbconvert_exporter": "python",
   "pygments_lexer": "ipython3",
   "version": "3.7.9"
  }
 },
 "nbformat": 4,
 "nbformat_minor": 4
}
