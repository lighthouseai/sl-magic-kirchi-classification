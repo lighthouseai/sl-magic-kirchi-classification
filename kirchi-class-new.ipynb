{
 "cells": [
  {
   "cell_type": "code",
   "execution_count": 1,
   "metadata": {},
   "outputs": [],
   "source": [
    "from __future__ import print_function, division\n",
    "import datetime\n",
    "import torch\n",
    "torch.manual_seed(42)\n",
    "import torch.nn as nn\n",
    "import torch.optim as optim\n",
    "from torch.optim import lr_scheduler\n",
    "from torchvision.utils import save_image\n",
    "import numpy as np\n",
    "import torchvision\n",
    "from torchvision import datasets, models, transforms\n",
    "from torch.utils.data import Dataset\n",
    "import matplotlib.pyplot as plt\n",
    "from PIL import Image\n",
    "import time\n",
    "import os\n",
    "import copy\n",
    "import cv2\n",
    "from albumentations import (\n",
    "    HorizontalFlip, VerticalFlip, IAAPerspective, ShiftScaleRotate, CLAHE, RandomRotate90,\n",
    "    Transpose, ShiftScaleRotate, Blur, OpticalDistortion, GridDistortion, HueSaturationValue,\n",
    "    IAAAdditiveGaussianNoise, GaussNoise, MotionBlur, MedianBlur, IAAPiecewiseAffine, RandomResizedCrop,\n",
    "    IAASharpen, IAAEmboss, RandomBrightnessContrast, Flip, OneOf, Compose, Normalize, Cutout, CoarseDropout, ShiftScaleRotate, CenterCrop, Resize,\n",
    "    ToGray\n",
    ")\n",
    "\n",
    "from albumentations.pytorch import ToTensorV2\n",
    "from sklearn.model_selection import train_test_split\n",
    "from livelossplot import PlotLosses\n",
    "\n",
    "NUMBER_OF_CLASSES = 2"
   ]
  },
  {
   "cell_type": "code",
   "execution_count": 2,
   "metadata": {},
   "outputs": [],
   "source": [
    "#sam \n",
    "from sam.sam import SAM"
   ]
  },
  {
   "cell_type": "code",
   "execution_count": 3,
   "metadata": {},
   "outputs": [],
   "source": [
    "class_names = []\n",
    "\n",
    "def dataLoc():\n",
    "    x = []\n",
    "    y = []\n",
    "    global class_names\n",
    "    for label,i in enumerate(os.listdir(\"data/deepdata/kirchidata/\")):\n",
    "        class_names.append(i)\n",
    "        for j in os.listdir(\"data/deepdata/kirchidata/\"+i):\n",
    "            x.append(\"data/deepdata/kirchidata/\"+i+\"/\"+j)\n",
    "            y.append(label)\n",
    "#         print(len(x[0]))\n",
    "    \n",
    "    x_train , x_val , y_train, y_val = train_test_split(x, y, test_size=0.2, random_state=42)\n",
    "#     print(x_train[1],y_train[1])\n",
    "#     class_names.sort()\n",
    "    print(class_names)\n",
    "    return x_train , x_val , y_train , y_val\n"
   ]
  },
  {
   "cell_type": "code",
   "execution_count": 4,
   "metadata": {},
   "outputs": [
    {
     "name": "stdout",
     "output_type": "stream",
     "text": [
      "['c', 't']\n"
     ]
    }
   ],
   "source": [
    "\n",
    "\n",
    "\n",
    "    \n",
    "\n",
    "class ThreadDataset(Dataset):\n",
    "    def __init__(self,typ,x,y):\n",
    "        self.samples = []\n",
    "        for j in range(len(x)):\n",
    "            im_bgr = cv2.imread(x[j])\n",
    "#             im_rgb = im_bgr[:, :, ::-1]\n",
    "            self.samples.append((im_bgr,y[j],x[j]))\n",
    "#                 print(im_rgb.shape)\n",
    "        if typ == \"train\":\n",
    "            self.data_transforms = Compose([\n",
    "#                 RandomResizedCrop(100, 100),\n",
    "#                 Resize(100, 100,p=1),\n",
    "#                 Transpose(p=0.5),\n",
    "#                 HorizontalFlip(p=0.5),\n",
    "#                 VerticalFlip(p=0.5),\n",
    "#                 ShiftScaleRotate(p=0.5),\n",
    "                HueSaturationValue(hue_shift_limit=0.2, sat_shift_limit=0.2, val_shift_limit=0.2, p=0.5),\n",
    "                RandomBrightnessContrast(brightness_limit=(-0.1,0.1), contrast_limit=(-0.1, 0.1), p=0.5),\n",
    "                ToGray(p=1.0),\n",
    "                Normalize(mean=[0.485, 0.456, 0.406], std=[0.229, 0.224, 0.225], max_pixel_value=255.0, p=1.0),\n",
    "                ToTensorV2(p=1.0),\n",
    "            ])\n",
    "        else:\n",
    "            self.data_transforms = Compose([\n",
    "#                 Resize(100, 100,p=1),\n",
    "                ToGray(p=1.0),\n",
    "                Normalize(mean=[0.485, 0.456, 0.406], std=[0.229, 0.224, 0.225], max_pixel_value=255.0, p=1.0),\n",
    "                ToTensorV2(p=1.0),\n",
    "            ])\n",
    "#         self.data_transforms = transforms.Compose([\n",
    "#                 transforms.ToPILImage(),\n",
    "#                 transforms.Resize(100,),\n",
    "#                 transforms.RandomHorizontalFlip(),\n",
    "#                 transforms.ToTensor(),\n",
    "#                 transforms.Normalize([0.485, 0.456, 0.406], [0.229, 0.224, 0.225])\n",
    "#             ])\n",
    "        \n",
    "        \n",
    "        \n",
    "        \n",
    "    def __getitem__(self, index):\n",
    "        \n",
    "        image = self.samples[index][0]\n",
    "#         image = cv2.resize(image,(100,100))\n",
    "        image = cv2.resize(image,(170,25))\n",
    "        image = self.data_transforms(image = image)[\"image\"]\n",
    "        \n",
    "        return (image,self.samples[index][1],self.samples[index][2])\n",
    "\n",
    "    def __len__(self):\n",
    "        return len(self.samples)\n",
    "\n",
    "\n",
    "x_train , x_val , y_train, y_val  =  dataLoc()\n",
    "threadtrainDataset = ThreadDataset(\"train\",x_train,y_train)\n",
    "threadvalDataset = ThreadDataset(\"val\",x_val,y_val)\n",
    "\n",
    "# threadtrainDataset,threadvalDataset = torch.utils.data.random_split(threadtrainDataset, [int(0.8*len(threadtrainDataset)),int(0.2*len(threadtrainDataset))])\n",
    "# threadvalDataset = ThreadDataset(\"val\")"
   ]
  },
  {
   "cell_type": "code",
   "execution_count": 5,
   "metadata": {},
   "outputs": [
    {
     "name": "stdout",
     "output_type": "stream",
     "text": [
      "cuda:0\n"
     ]
    }
   ],
   "source": [
    "dataloaders = {\"train\":torch.utils.data.DataLoader(threadtrainDataset, batch_size=4,\n",
    "                                             shuffle=True, num_workers=8),\n",
    "               \"val\":torch.utils.data.DataLoader(threadvalDataset, batch_size=4,\n",
    "                                             shuffle=True, num_workers=8)\n",
    "              }\n",
    "\n",
    "dataset_sizes = {\"train\":len(threadtrainDataset), \"val\":len(threadvalDataset) }\n",
    "\n",
    "# print(dataloaders)\n",
    "# class_names = [\"c\",\"t\"]\n",
    "device = torch.device(\"cuda:0\" if torch.cuda.is_available() else \"cpu\")\n",
    "print(device)"
   ]
  },
  {
   "cell_type": "code",
   "execution_count": 6,
   "metadata": {},
   "outputs": [
    {
     "name": "stdout",
     "output_type": "stream",
     "text": [
      "<class 'torch.Tensor'>\n"
     ]
    },
    {
     "data": {
      "image/png": "[encoded data removed]",
      "text/plain": [
       "<Figure size 432x288 with 1 Axes>"
      ]
     },
     "metadata": {
      "needs_background": "light"
     },
     "output_type": "display_data"
    }
   ],
   "source": [
    "def imshow(inp, title=None):\n",
    "    \"\"\"Imshow for Tensor.\"\"\"\n",
    "    inp = inp.numpy().transpose((1, 2, 0))\n",
    "    mean = np.array([0.485, 0.456, 0.406])\n",
    "    std = np.array([0.229, 0.224, 0.225])\n",
    "    inp = std * inp + mean\n",
    "    inp = np.clip(inp, 0, 1)\n",
    "    plt.imshow(inp)\n",
    "    if title is not None:\n",
    "        plt.title(title)\n",
    "    plt.pause(0.001)  # pause a bit so that plots are updated\n",
    "\n",
    "\n",
    "# Get a batch of training data\n",
    "inputs, classes,path = next(iter(dataloaders['train']))\n",
    "print(type(classes))\n",
    "# # Make a grid from batch\n",
    "out = torchvision.utils.make_grid(inputs)\n",
    "\n",
    "imshow(out, title=[class_names[x] for x in classes])"
   ]
  },
  {
   "cell_type": "code",
   "execution_count": 7,
   "metadata": {},
   "outputs": [],
   "source": [
    "def train_model(model, criterion, optimizer, scheduler, num_epochs=25):\n",
    "    since = time.time()\n",
    "    liveloss = PlotLosses()\n",
    "    best_model_wts = copy.deepcopy(model.state_dict())\n",
    "    best_acc = 0.0\n",
    "\n",
    "    for epoch in range(num_epochs):\n",
    "        logs = {}\n",
    "        print('Epoch {}/{}'.format(epoch, num_epochs - 1))\n",
    "        print('-' * 10)\n",
    "\n",
    "        # Each epoch has a training and validation phase\n",
    "        for phase in ['train', 'val']:\n",
    "            if phase == 'train':\n",
    "                model.train()  # Set model to training mode\n",
    "            else:\n",
    "                model.eval()   # Set model to evaluate mode\n",
    "\n",
    "            running_loss = 0.0\n",
    "            running_corrects = 0\n",
    "\n",
    "            # Iterate over data.\n",
    "            for (inputs, labels,paths) in dataloaders[phase]:\n",
    "#                 print(\"length of data\",inputs.shape)\n",
    "                inputs = inputs.to(device)\n",
    "                labels = labels.to(device)\n",
    "\n",
    "                # zero the parameter gradients\n",
    "                optimizer.zero_grad()\n",
    "\n",
    "                # forward\n",
    "                # track history if only in train\n",
    "                with torch.set_grad_enabled(phase == 'train'):\n",
    "                    outputs = model(inputs)\n",
    "                    _, preds = torch.max(outputs, 1)\n",
    "                    loss = criterion(outputs, labels)\n",
    "\n",
    "                    # backward + optimize only if in training phase\n",
    "                    if phase == 'train':\n",
    "                        loss.backward()\n",
    "                        optimizer.step()\n",
    "\n",
    "                # statistics\n",
    "                running_loss += loss.item() * inputs.size(0)\n",
    "                running_corrects += torch.sum(preds == labels.data)\n",
    "            if phase == 'train':\n",
    "                scheduler.step()\n",
    "\n",
    "            epoch_loss = running_loss / dataset_sizes[phase]\n",
    "            epoch_acc = running_corrects.double() / dataset_sizes[phase]\n",
    "\n",
    "            print('{} Loss: {:.4f} Acc: {:.4f}'.format(\n",
    "                phase, epoch_loss, epoch_acc))\n",
    "\n",
    "            # deep copy the model\n",
    "            if phase == 'val' and epoch_acc >= best_acc:\n",
    "                best_acc = epoch_acc\n",
    "                best_model_wts = copy.deepcopy(model.state_dict())\n",
    "#                 \n",
    "                \n",
    "            prefix = ''\n",
    "            if phase == 'val':\n",
    "                prefix = 'val_'\n",
    "\n",
    "            logs[prefix + 'log loss'] = epoch_loss\n",
    "            logs[prefix + 'accuracy'] = epoch_acc\n",
    "            \n",
    "#             if epoch_acc >= 1 and phase == 'val' and loss <= 0.0001:\n",
    "#                 print(\"Training Ended\")\n",
    "#                 model.load_state_dict(best_model_wts)\n",
    "#                 return model\n",
    "                \n",
    "        liveloss.update(logs)\n",
    "        liveloss.send()\n",
    "\n",
    "        print()\n",
    "\n",
    "    time_elapsed = time.time() - since\n",
    "    print('Training complete in {:.0f}m {:.0f}s'.format(\n",
    "        time_elapsed // 60, time_elapsed % 60))\n",
    "    print('Best val Acc: {:4f}'.format(best_acc))\n",
    "\n",
    "    # load best model weights\n",
    "    model.load_state_dict(best_model_wts)\n",
    "    return model"
   ]
  },
  {
   "cell_type": "code",
   "execution_count": 8,
   "metadata": {},
   "outputs": [],
   "source": [
    "def train_model_with_sam(model, criterion, optimizer, scheduler, num_epochs=25):\n",
    "    \n",
    "    best_model_wts = copy.deepcopy(model.state_dict())\n",
    "    best_acc = 0.0\n",
    "    since = time.time()\n",
    "#     since = time.time()\n",
    "    liveloss = PlotLosses()\n",
    "    \n",
    "    for epoch in range(num_epochs):\n",
    "        logs = {}\n",
    "        print('Epoch {}/{}'.format(epoch, num_epochs - 1))\n",
    "        print('-' * 10)\n",
    "        # Each epoch has a training and validation phase\n",
    "        for phase in ['train', 'val']:\n",
    "            if phase == 'train':\n",
    "                model.train()  # Set model to training mode\n",
    "            else:\n",
    "                model.eval()   # Set model to evaluate mode\n",
    "\n",
    "            running_loss = 0.0\n",
    "            running_corrects = 0\n",
    "            \n",
    "            # Iterate over data.\n",
    "            for (inputs, labels,paths) in dataloaders[phase]:\n",
    "#                 print(\"length of data\",inputs.shape)\n",
    "                inputs = inputs.to(device)\n",
    "                labels = labels.to(device)\n",
    "\n",
    "                # zero the parameter gradients\n",
    "                optimizer.zero_grad()\n",
    "\n",
    "                # forward\n",
    "                # track history if only in train\n",
    "                with torch.set_grad_enabled(phase == 'train'):\n",
    "                    outputs = model(inputs)\n",
    "                    _, preds = torch.max(outputs, 1)\n",
    "                    loss = criterion(outputs, labels)\n",
    "\n",
    "                    # backward + optimize only if in training phase\n",
    "                    if phase == 'train':\n",
    "                        loss.backward()\n",
    "#                         optimizer.step()\n",
    "\n",
    "                        def closure():\n",
    "                            outputs = model(inputs)\n",
    "                            _, preds = torch.max(outputs, 1)\n",
    "                            loss = criterion(outputs, labels)\n",
    "                            loss.backward()\n",
    "                            return loss\n",
    "                \n",
    "                        optimizer.step(closure)\n",
    "                    \n",
    "                \n",
    "\n",
    "                # statistics\n",
    "                running_loss += loss.item() * inputs.size(0)\n",
    "                running_corrects += torch.sum(preds == labels.data)\n",
    "            if phase == 'train':\n",
    "                scheduler.step()\n",
    "\n",
    "            epoch_loss = running_loss / dataset_sizes[phase]\n",
    "            epoch_acc = running_corrects.double() / dataset_sizes[phase]\n",
    "\n",
    "            print('{} Loss: {:.4f} Acc: {:.4f}'.format(\n",
    "                phase, epoch_loss, epoch_acc))\n",
    "\n",
    "            # deep copy the model\n",
    "            if phase == 'val' and epoch_acc >= best_acc:\n",
    "                best_acc = epoch_acc\n",
    "                best_model_wts = copy.deepcopy(model.state_dict())\n",
    "            \n",
    "            \n",
    "            prefix = ''\n",
    "            if phase == 'val':\n",
    "                prefix = 'val_'\n",
    "\n",
    "            logs[prefix + 'log loss'] = epoch_loss\n",
    "            logs[prefix + 'accuracy'] = epoch_acc\n",
    "            \n",
    "            \n",
    "        liveloss.update(logs)\n",
    "        liveloss.send()    \n",
    "        print()\n",
    "            \n",
    "            \n",
    "            \n",
    "    time_elapsed = time.time() - since\n",
    "    print('Training complete in {:.0f}m {:.0f}s'.format(\n",
    "        time_elapsed // 60, time_elapsed % 60))\n",
    "    print('Best val Acc: {:4f}'.format(best_acc))\n",
    "\n",
    "    # load best model weights\n",
    "    model.load_state_dict(best_model_wts)\n",
    "    return model\n",
    "        "
   ]
  },
  {
   "cell_type": "code",
   "execution_count": 9,
   "metadata": {},
   "outputs": [],
   "source": [
    "def visualize_model(model, num_images=6):\n",
    "    was_training = model.training\n",
    "    model.eval()\n",
    "    images_so_far = 0\n",
    "    fig = plt.figure()\n",
    "\n",
    "    with torch.no_grad():\n",
    "        for i, (inputs, labels,paths) in enumerate(dataloaders['val']):\n",
    "            inputs = inputs.to(device)\n",
    "            labels = labels.to(device)\n",
    "            \n",
    "            print(datetime.datetime.now())\n",
    "            outputs = model(inputs)\n",
    "            _, preds = torch.max(outputs, 1)\n",
    "            print(datetime.datetime.now())\n",
    "            print(preds)\n",
    "#             if 1 not in preds:\n",
    "#                 continue\n",
    "            for j in range(inputs.size()[0]):\n",
    "                images_so_far += 1\n",
    "                ax = plt.subplot(num_images//2, 2, images_so_far)\n",
    "                ax.axis('off')\n",
    "                ax.set_title('predicted: {}'.format(class_names[preds[j]]))\n",
    "                imshow(inputs.cpu().data[j])\n",
    "\n",
    "                if images_so_far == num_images:\n",
    "                    model.train(mode=was_training)\n",
    "                    return\n",
    "        model.train(mode=was_training)"
   ]
  },
  {
   "cell_type": "code",
   "execution_count": 10,
   "metadata": {},
   "outputs": [],
   "source": [
    "model_ft = models.resnet18(pretrained=True)\n",
    "num_ftrs = model_ft.fc.in_features\n",
    "# Here the size of each output sample is set to 2.\n",
    "# Alternatively, it can be generalized to nn.Linear(num_ftrs, len(class_names)).\n",
    "model_ft.fc = nn.Linear(num_ftrs, NUMBER_OF_CLASSES)\n",
    "\n",
    "model_ft = model_ft.to(device)\n",
    "\n",
    "criterion = nn.CrossEntropyLoss()\n",
    "\n",
    "# Observe that all parameters are being optimized\n",
    "# optimizer_ft = optim.SGD(model_ft.parameters(), lr=0.001, momentum=0.9)\n",
    "# optimizer_ft = optim.Adam(model_ft.parameters(), lr=0.001, betas=(0.9, 0.999), eps=1e-08, weight_decay=0, amsgrad=False)\n",
    "\n",
    "#sam\n",
    "base_optimizer = optim.SGD  # define an optimizer for the \"sharpness-aware\" update\n",
    "optimizer_ft = SAM(model_ft.parameters(), base_optimizer, lr=0.001, momentum=0.9)\n",
    "\n",
    "\n",
    "\n",
    "# Decay LR by a factor of 0.1 every 7 epochs\n",
    "exp_lr_scheduler = lr_scheduler.StepLR(optimizer_ft, step_size=3, gamma=0.1)"
   ]
  },
  {
   "cell_type": "code",
   "execution_count": 11,
   "metadata": {
    "scrolled": true
   },
   "outputs": [
    {
     "data": {
      "image/png": "[encoded data removed]",
      "text/plain": [
       "<Figure size 864x576 with 2 Axes>"
      ]
     },
     "metadata": {
      "needs_background": "light"
     },
     "output_type": "display_data"
    },
    {
     "name": "stdout",
     "output_type": "stream",
     "text": [
      "accuracy\n",
      "\ttraining         \t (min:    0.763, max:    0.962, cur:    0.954)\n",
      "\tvalidation       \t (min:    0.863, max:    0.970, cur:    0.964)\n",
      "log loss\n",
      "\ttraining         \t (min:    0.119, max:    0.593, cur:    0.127)\n",
      "\tvalidation       \t (min:    0.103, max:    0.400, cur:    0.114)\n",
      "\n",
      "Training complete in 17m 15s\n",
      "Best val Acc: 0.969697\n"
     ]
    }
   ],
   "source": [
    "# callbacks = [EarlyStopping(monitor='val_loss', patience=5)]\n",
    "# model_ft.set_callbacks(callbacks)\n",
    "# model_ft = train_model(model_ft, criterion, optimizer_ft, exp_lr_scheduler,\n",
    "#                        num_epochs=10)\n",
    "\n",
    "model_ft = train_model_with_sam(model_ft, criterion, optimizer_ft, exp_lr_scheduler,\n",
    "                       num_epochs=30)"
   ]
  },
  {
   "cell_type": "code",
   "execution_count": 12,
   "metadata": {},
   "outputs": [
    {
     "name": "stdout",
     "output_type": "stream",
     "text": [
      "2021-09-13 14:11:35.949297\n",
      "2021-09-13 14:11:35.953832\n",
      "tensor([0, 0, 1, 0], device='cuda:0')\n"
     ]
    },
    {
     "data": {
      "image/png": "[encoded data removed]",
      "text/plain": [
       "<Figure size 432x288 with 1 Axes>"
      ]
     },
     "metadata": {
      "needs_background": "light"
     },
     "output_type": "display_data"
    },
    {
     "data": {
      "image/png": "[encoded data removed]",
      "text/plain": [
       "<Figure size 432x288 with 1 Axes>"
      ]
     },
     "metadata": {
      "needs_background": "light"
     },
     "output_type": "display_data"
    },
    {
     "data": {
      "image/png": "[encoded data removed]",
      "text/plain": [
       "<Figure size 432x288 with 1 Axes>"
      ]
     },
     "metadata": {
      "needs_background": "light"
     },
     "output_type": "display_data"
    },
    {
     "data": {
      "image/png": "[encoded data removed]",
      "text/plain": [
       "<Figure size 432x288 with 1 Axes>"
      ]
     },
     "metadata": {
      "needs_background": "light"
     },
     "output_type": "display_data"
    }
   ],
   "source": [
    "import datetime\n",
    "\n",
    "# model_ft = model_ft.to(\"cpu\")\n",
    "\n",
    "visualize_model(model_ft,4)\n",
    "\n",
    "plt.ioff()\n",
    "plt.show()"
   ]
  },
  {
   "cell_type": "code",
   "execution_count": 22,
   "metadata": {},
   "outputs": [
    {
     "name": "stdout",
     "output_type": "stream",
     "text": [
      "done------------>\n"
     ]
    }
   ],
   "source": [
    "import time\n",
    "groundTruth = []\n",
    "prediction = []\n",
    "# device= \"cpu\"\n",
    "was_training = model_ft.training\n",
    "model_ft = model_ft.to(device)\n",
    "model_ft.eval()\n",
    "# print(model_ft.training)\n",
    "with torch.no_grad():\n",
    "    for i, (inputs, labels,paths) in enumerate(dataloaders['val']):\n",
    "        inputs = inputs.to(device)\n",
    "        labels = labels.to(device)\n",
    "#         print(paths)\n",
    "#         print(time.time())\n",
    "    \n",
    "\n",
    "        outputs = model_ft(inputs)\n",
    "\n",
    "    \n",
    "\n",
    "        _, preds = torch.max(outputs, 1)\n",
    "        \n",
    "#         for i in preds:\n",
    "#             print(class_names[i])\n",
    "\n",
    "#         print(time.time())\n",
    "\n",
    "        for i,val in enumerate(preds):\n",
    "            if val != labels[i]:\n",
    "                ima = cv2.imread(paths[i])\n",
    "                cv2.imwrite(\"./data/deepdata/ana/-\"+str(labels[i])+\"-\"+str(val)+\"(\"+paths[i][27:-4]+\")\"+\".jpg\",ima)\n",
    "#                 print(\"./data/deepdata/ana/-\"+str(labels[i])+\"-\"+str(val)+\"(\"+paths[i][27:-4]+\")\"+\".jpg\")\n",
    "        prediction.extend(preds.cpu().numpy())\n",
    "        groundTruth.extend(labels.cpu().numpy())\n",
    "    \n",
    "model_ft.train(mode = True)\n",
    "print(\"done------------>\")"
   ]
  },
  {
   "cell_type": "code",
   "execution_count": 14,
   "metadata": {},
   "outputs": [
    {
     "data": {
      "text/plain": [
       "array([[416,   2],\n",
       "       [ 19, 256]])"
      ]
     },
     "execution_count": 14,
     "metadata": {},
     "output_type": "execute_result"
    }
   ],
   "source": [
    "from sklearn.metrics import confusion_matrix\n",
    "confusion_matrix(groundTruth, prediction)"
   ]
  },
  {
   "cell_type": "code",
   "execution_count": 15,
   "metadata": {},
   "outputs": [
    {
     "name": "stdout",
     "output_type": "stream",
     "text": [
      "precision 0.9696969696969697\n",
      "recall 0.9696969696969697\n",
      "f1 score 0.9696969696969697\n"
     ]
    }
   ],
   "source": [
    "from sklearn.metrics import precision_score, recall_score\n",
    "from sklearn.metrics import f1_score\n",
    "print(\"precision\",precision_score(groundTruth, prediction,average='micro'))\n",
    "print(\"recall\",recall_score(groundTruth, prediction,average='micro'))\n",
    "print(\"f1 score\",f1_score(groundTruth, prediction,average='micro'))"
   ]
  },
  {
   "cell_type": "code",
   "execution_count": 16,
   "metadata": {},
   "outputs": [
    {
     "name": "stdout",
     "output_type": "stream",
     "text": [
      "0   c\n",
      "1   t\n",
      "['c', 't']\n"
     ]
    }
   ],
   "source": [
    "for i,name in enumerate(class_names):\n",
    "    print(i,\" \",name)\n",
    "print(class_names)"
   ]
  },
  {
   "cell_type": "code",
   "execution_count": 17,
   "metadata": {},
   "outputs": [],
   "source": [
    "#saving the model\n",
    "torch.save(model_ft.state_dict(),\"kirchi_model.pth\")"
   ]
  },
  {
   "cell_type": "code",
   "execution_count": 18,
   "metadata": {},
   "outputs": [
    {
     "data": {
      "text/plain": [
       "<All keys matched successfully>"
      ]
     },
     "execution_count": 18,
     "metadata": {},
     "output_type": "execute_result"
    }
   ],
   "source": [
    "kirchiModel = models.resnet18(pretrained = False)\n",
    "num_ftrs = kirchiModel.fc.in_features\n",
    "kirchiModel.fc = nn.Linear(num_ftrs, 2)\n",
    "kirchiModel.load_state_dict(torch.load(\"./kirchi_model.pth\"))\n",
    "# model_ft = model_ft.to(\"cuda\")"
   ]
  },
  {
   "cell_type": "code",
   "execution_count": 19,
   "metadata": {},
   "outputs": [
    {
     "data": {
      "text/plain": [
       "['flight_pink',\n",
       " 'cb_black',\n",
       " 'dots_orange',\n",
       " 'dots_grey',\n",
       " 'club_blue',\n",
       " 'cross_green',\n",
       " 'cb_blue',\n",
       " 'dots_green',\n",
       " 'elephant_blue',\n",
       " 'dots_red']"
      ]
     },
     "execution_count": 19,
     "metadata": {},
     "output_type": "execute_result"
    }
   ],
   "source": [
    "['flight_pink', 'cb_black', 'dots_orange', 'dots_grey', 'club_blue', 'cross_green', 'cb_blue', 'dots_green', 'elephant_blue', 'dots_red']"
   ]
  },
  {
   "cell_type": "code",
   "execution_count": 20,
   "metadata": {},
   "outputs": [],
   "source": [
    "kirchiTransforms = transforms.Compose([\n",
    "                transforms.ToPILImage(),\n",
    "#                 transforms.Resize(100,),\n",
    "                transforms.Grayscale(num_output_channels=3),\n",
    "                transforms.RandomHorizontalFlip(),\n",
    "                transforms.ToTensor(),\n",
    "                transforms.Normalize([0.485, 0.456, 0.406], [0.229, 0.224, 0.225])\n",
    "            ])\n",
    "# kirchiTransforms = Compose([\n",
    "# #                 Resize(100, 100,p=1),\n",
    "#                 ToGray(p=1.0),\n",
    "#                 Normalize(mean=[0.485, 0.456, 0.406], std=[0.229, 0.224, 0.225], max_pixel_value=255.0, p=1.0),\n",
    "#                 ToTensorV2(p=1.0),\n",
    "#             ])\n",
    "\n"
   ]
  },
  {
   "cell_type": "code",
   "execution_count": 21,
   "metadata": {},
   "outputs": [
    {
     "ename": "FileNotFoundError",
     "evalue": "[Errno 2] No such file or directory: '/home/cvr/Pictures/slvision1/infer/inferkirchis/0/'",
     "output_type": "error",
     "traceback": [
      "\u001b[0;31m---------------------------------------------------------------------------\u001b[0m",
      "\u001b[0;31mFileNotFoundError\u001b[0m                         Traceback (most recent call last)",
      "\u001b[0;32m<ipython-input-21-294d75326ee0>\u001b[0m in \u001b[0;36m<module>\u001b[0;34m\u001b[0m\n\u001b[1;32m      3\u001b[0m \u001b[0;34m\u001b[0m\u001b[0m\n\u001b[1;32m      4\u001b[0m \u001b[0;34m\u001b[0m\u001b[0m\n\u001b[0;32m----> 5\u001b[0;31m \u001b[0;32mfor\u001b[0m \u001b[0mfile\u001b[0m \u001b[0;32min\u001b[0m \u001b[0mos\u001b[0m\u001b[0;34m.\u001b[0m\u001b[0mlistdir\u001b[0m\u001b[0;34m(\u001b[0m\u001b[0mfolder\u001b[0m\u001b[0;34m)\u001b[0m\u001b[0;34m:\u001b[0m\u001b[0;34m\u001b[0m\u001b[0;34m\u001b[0m\u001b[0m\n\u001b[0m\u001b[1;32m      6\u001b[0m     \u001b[0mimage\u001b[0m \u001b[0;34m=\u001b[0m \u001b[0mcv2\u001b[0m\u001b[0;34m.\u001b[0m\u001b[0mimread\u001b[0m\u001b[0;34m(\u001b[0m\u001b[0mfolder\u001b[0m\u001b[0;34m+\u001b[0m\u001b[0mfile\u001b[0m\u001b[0;34m)\u001b[0m\u001b[0;34m\u001b[0m\u001b[0;34m\u001b[0m\u001b[0m\n\u001b[1;32m      7\u001b[0m     \u001b[0msaving_image\u001b[0m \u001b[0;34m=\u001b[0m \u001b[0mimage\u001b[0m\u001b[0;34m.\u001b[0m\u001b[0mcopy\u001b[0m\u001b[0;34m(\u001b[0m\u001b[0;34m)\u001b[0m\u001b[0;34m\u001b[0m\u001b[0;34m\u001b[0m\u001b[0m\n",
      "\u001b[0;31mFileNotFoundError\u001b[0m: [Errno 2] No such file or directory: '/home/cvr/Pictures/slvision1/infer/inferkirchis/0/'"
     ]
    }
   ],
   "source": [
    "\n",
    "# folder = \"/home/cvr/Pictures/slvision1/inferkirchis/0/\"\n",
    "folder = \"/home/cvr/Pictures/slvision1/infer/inferkirchis/0/\"\n",
    "\n",
    "\n",
    "for file in os.listdir(folder):\n",
    "    image = cv2.imread(folder+file)\n",
    "    saving_image = image.copy()\n",
    "    image = cv2.resize(image,(170,25))\n",
    "#     image = kirchiTransforms(image = image)\n",
    "# #     print(image[\"image\"].unsqueeze(0).shape)\n",
    "#     output  = kirchiModel(image[\"image\"].unsqueeze(0))\n",
    "    image = kirchiTransforms(image)\n",
    "#     print(image[\"image\"].unsqueeze(0).shape)\n",
    "    output  = kirchiModel(image.unsqueeze(0))\n",
    "    _, predkir = torch.max(output, 1)\n",
    "    print(predkir,\" \",\"/home/cvr/Pictures/slvision1/inferkirchis/0/\"+file)\n",
    "    cv2.imwrite(\"./data/deepdata/deployment_test/\"+str(predkir[0].numpy())+\"/\"+file,saving_image)\n",
    "#     print(\"./data/deepdata/deployment_test/\"+str(predkir[0].numpy())+\"/\"+file)"
   ]
  },
  {
   "cell_type": "code",
   "execution_count": null,
   "metadata": {},
   "outputs": [],
   "source": []
  }
 ],
 "metadata": {
  "kernelspec": {
   "display_name": "ml",
   "language": "python",
   "name": "ml"
  },
  "language_info": {
   "codemirror_mode": {
    "name": "ipython",
    "version": 3
   },
   "file_extension": ".py",
   "mimetype": "text/x-python",
   "name": "python",
   "nbconvert_exporter": "python",
   "pygments_lexer": "ipython3",
   "version": "3.7.11"
  }
 },
 "nbformat": 4,
 "nbformat_minor": 4
}
