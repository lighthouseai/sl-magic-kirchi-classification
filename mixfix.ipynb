{
 "cells": [
  {
   "cell_type": "code",
   "execution_count": 9,
   "metadata": {},
   "outputs": [],
   "source": [
    "import cv2\n",
    "from sklearn.svm import SVC\n",
    "from sklearn.preprocessing import StandardScaler\n",
    "from sklearn.pipeline import Pipeline\n",
    "import os\n",
    "import matplotlib.pyplot as plt"
   ]
  },
  {
   "cell_type": "code",
   "execution_count": 2,
   "metadata": {},
   "outputs": [],
   "source": [
    "def createModel():\n",
    "        foldername = \"./sl/content\"\n",
    "        y = []\n",
    "        X = []\n",
    "        H = []\n",
    "        for root,dirs,_ in os.walk(foldername):\n",
    "            for d in dirs:\n",
    "                mypath = os.path.join(root,d)\n",
    "                for file in os.listdir(mypath):                   \n",
    "                    image = cv2.imread(os.path.join(mypath,file))\n",
    "                    #predImage\n",
    "                    image = cv2.cvtColor(image,cv2.COLOR_BGR2HSV)\n",
    "                    # hist = cv2.calcHist([image],[0],None,[256],[0,256])\n",
    "                    # hist = hist.reshape(-1)\n",
    "                    # print(\"hist shape:\",hist.shape)\n",
    "                    image = cv2.resize(image,(160,25))\n",
    "                    image = image.reshape(-1)\n",
    "                    X.append(image)\n",
    "                    y.append(d)\n",
    "                    # H.append(hist)\n",
    "#         poly_kernel_svm_clf = Pipeline([\n",
    "#         (\"scaler\", StandardScaler()),\n",
    "#         (\"svm_clf\", SVC(kernel=\"poly\", degree=3, coef0=1, C=5))\n",
    "#         ])\n",
    "#         poly_kernel_svm_clf.fit(X, y)\n",
    "        clfsvc = SVC(C=2, probability=True)\n",
    "        clfsvc.fit(X, y)\n",
    "        \n",
    "        return clfsvc"
   ]
  },
  {
   "cell_type": "code",
   "execution_count": 3,
   "metadata": {},
   "outputs": [],
   "source": [
    "clf = createModel()"
   ]
  },
  {
   "cell_type": "code",
   "execution_count": 16,
   "metadata": {},
   "outputs": [
    {
     "name": "stdout",
     "output_type": "stream",
     "text": [
      "['4']\n",
      "['4']\n",
      "['4']\n",
      "['4']\n",
      "['2']\n"
     ]
    }
   ],
   "source": [
    "test_imgs = os.listdir(\"./sl/test/yellow/\")\n",
    "for i in test_imgs:\n",
    "    test_image = cv2.imread(\"./sl/test/yellow/\"+i)\n",
    "    image = cv2.cvtColor(test_image,cv2.COLOR_BGR2HSV)\n",
    "    image = image[:int(image.shape[0]/2),:]\n",
    "    sample = image.copy()\n",
    "    image = cv2.resize(image,(160,25))\n",
    "    image = image.reshape(1,-1)\n",
    "    image.shape\n",
    "    print(clf.predict(image))"
   ]
  },
  {
   "cell_type": "code",
   "execution_count": 17,
   "metadata": {},
   "outputs": [
    {
     "data": {
      "text/plain": [
       "<matplotlib.image.AxesImage at 0x7f3514c04650>"
      ]
     },
     "execution_count": 17,
     "metadata": {},
     "output_type": "execute_result"
    },
    {
     "data": {
      "image/png": "[encoded data removed]",
      "text/plain": [
       "<Figure size 432x288 with 1 Axes>"
      ]
     },
     "metadata": {
      "needs_background": "light"
     },
     "output_type": "display_data"
    }
   ],
   "source": [
    "plt.imshow(sample)"
   ]
  },
  {
   "cell_type": "code",
   "execution_count": null,
   "metadata": {},
   "outputs": [],
   "source": []
  }
 ],
 "metadata": {
  "kernelspec": {
   "display_name": "ml",
   "language": "python",
   "name": "ml"
  },
  "language_info": {
   "codemirror_mode": {
    "name": "ipython",
    "version": 3
   },
   "file_extension": ".py",
   "mimetype": "text/x-python",
   "name": "python",
   "nbconvert_exporter": "python",
   "pygments_lexer": "ipython3",
   "version": "3.7.9"
  }
 },
 "nbformat": 4,
 "nbformat_minor": 4
}
